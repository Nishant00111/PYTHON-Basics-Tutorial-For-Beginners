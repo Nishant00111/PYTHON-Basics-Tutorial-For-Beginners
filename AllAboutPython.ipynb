{
  "cells": [
    {
      "cell_type": "markdown",
      "metadata": {
        "id": "JLPMRGLhXgp7"
      },
      "source": [
        "# **PYTHON START**-->"
      ]
    },
    {
      "cell_type": "markdown",
      "metadata": {
        "id": "rw3YEROhXwlG"
      },
      "source": [
        "Python is the computer programming language used for build websites, software, conduct data analytics. It is high level programming language. It is developed by **Guido Van Rossum** in 1991.\n",
        "\n",
        "\n",
        "\n",
        " WHY PYTHON / FEATURES OF PYTHON   ▶\n",
        "\n",
        "\n",
        "* Easy to learn.\n",
        "* open source community development.\n",
        "* Extensive support libraries like NumPy, Pandas.\n"
      ]
    },
    {
      "cell_type": "markdown",
      "metadata": {
        "id": "pi-ekRZPZGxE"
      },
      "source": [
        "**VARIABLE IN PYHTON --->** \n",
        "\n",
        "*Variable is reserved memory location to store values. Means that when we create a variable then we will reserved some space in memory. Variables can be declared by any name and alphabet. \n",
        "The (=) sign are used to assign the value to variable.In programming this sign is known as assignment operator.\n",
        "\n",
        " RULES FOR DECLARING THE VARIABLE ▶\n",
        " * Variable name must start with letter or underscore.\n",
        " * Variable name can contain alphanumeric characters & underscores.\n",
        " * Variable names are case sensitive. i:e aa, Aa, AA are three different variable."
      ]
    },
    {
      "cell_type": "code",
      "execution_count": null,
      "metadata": {
        "id": "Y8ST0n8Fbh95"
      },
      "outputs": [],
      "source": [
        " a = 12 # declaring a variable \"a\" and reserve memory in variable and assigned 12 to variable"
      ]
    },
    {
      "cell_type": "code",
      "execution_count": null,
      "metadata": {
        "colab": {
          "base_uri": "https://localhost:8080/"
        },
        "id": "fJv_M4fw12hg",
        "outputId": "fcf90724-5ddc-4ebf-8ceb-d7739217db9d"
      },
      "outputs": [
        {
          "name": "stdout",
          "output_type": "stream",
          "text": [
            "12\n"
          ]
        }
      ],
      "source": [
        "print(a) # access the variable"
      ]
    },
    {
      "cell_type": "code",
      "execution_count": null,
      "metadata": {
        "id": "foC3yCbH3kCv"
      },
      "outputs": [],
      "source": [
        "nish = 22    # nish is a variable we made and reserve memory."
      ]
    },
    {
      "cell_type": "code",
      "execution_count": null,
      "metadata": {
        "colab": {
          "base_uri": "https://localhost:8080/"
        },
        "id": "IbTT4alPrVD1",
        "outputId": "f457a113-18e3-4d1e-998f-0ea14bb0660c"
      },
      "outputs": [
        {
          "name": "stdout",
          "output_type": "stream",
          "text": [
            "22\n"
          ]
        }
      ],
      "source": [
        "print(nish)"
      ]
    },
    {
      "cell_type": "markdown",
      "metadata": {
        "id": "5zmyXdv8sUZz"
      },
      "source": [
        "## keywords in python"
      ]
    },
    {
      "cell_type": "markdown",
      "metadata": {
        "id": "oW6g5YQKsnAw"
      },
      "source": [
        "**Python Keywords: An Introduction** -->\n",
        "\n",
        "Value Keywords: True, False, None.\n",
        "\n",
        "Operator Keywords: and, or, not, in, is.\n",
        "\n",
        "Control Flow Keywords: if, elif, else.\n",
        "\n",
        "Iteration Keywords: for, while, break, continue, else.\n",
        "\n",
        "Structure Keywords: def, class, with, as, pass, lambda.\n",
        "\n",
        "Returning Keywords: return, yield.\n",
        "\n",
        "Import Keywords: import, from, as.\n"
      ]
    },
    {
      "cell_type": "markdown",
      "metadata": {
        "id": "JSznfdhutn2D"
      },
      "source": [
        "⚫**Keywords in python are reserved words that can not be used as a variable name, function name, or any other identifiers.**  -->"
      ]
    },
    {
      "cell_type": "markdown",
      "metadata": {
        "id": "c3dxcdk4uw2I"
      },
      "source": [
        "▶**Literals in python are which whose value remains fixed throughtout whole program and identifiers is name used to identify a variable, function, class. The identifiers is should start with character or underscore. for e:g-var1, _var1, _var_1**  -->"
      ]
    },
    {
      "cell_type": "markdown",
      "metadata": {
        "id": "4AamukUczjuj"
      },
      "source": [
        "# **some concept about python**  --  >"
      ]
    },
    {
      "cell_type": "code",
      "execution_count": null,
      "metadata": {
        "id": "6YSTYQEEszPI"
      },
      "outputs": [],
      "source": [
        "a = 7 # declare two variables a and b.\n",
        "b = 7"
      ]
    },
    {
      "cell_type": "code",
      "execution_count": null,
      "metadata": {
        "colab": {
          "base_uri": "https://localhost:8080/"
        },
        "id": "7EIB0az9woxP",
        "outputId": "a65b43ed-a8b7-4e1d-a852-2d147cfc303e"
      },
      "outputs": [
        {
          "data": {
            "text/plain": [
              "int"
            ]
          },
          "execution_count": 3,
          "metadata": {},
          "output_type": "execute_result"
        }
      ],
      "source": [
        "type(a) # a type is an integers data type."
      ]
    },
    {
      "cell_type": "code",
      "execution_count": null,
      "metadata": {
        "colab": {
          "base_uri": "https://localhost:8080/"
        },
        "id": "XsCr4jZBxAxe",
        "outputId": "e1537daa-e6ea-4703-c16d-3bea236be207"
      },
      "outputs": [
        {
          "data": {
            "text/plain": [
              "11126880"
            ]
          },
          "execution_count": 4,
          "metadata": {},
          "output_type": "execute_result"
        }
      ],
      "source": [
        "id(a) # here we will access the address in which (a) is stores."
      ]
    },
    {
      "cell_type": "code",
      "execution_count": null,
      "metadata": {
        "colab": {
          "background_save": true
        },
        "id": "FLVH2OLdyUIf",
        "outputId": "1627e06a-8397-4b18-94e3-178bcc76d86d"
      },
      "outputs": [
        {
          "data": {
            "text/plain": [
              "11126880"
            ]
          },
          "execution_count": 5,
          "metadata": {},
          "output_type": "execute_result"
        }
      ],
      "source": [
        "id(b) # access the address of variable b at which the  b is stored."
      ]
    },
    {
      "cell_type": "markdown",
      "source": [
        " **some basic and important concept knowing with program    ----->**"
      ],
      "metadata": {
        "id": "EsVVC3UxLu__"
      }
    },
    {
      "cell_type": "code",
      "execution_count": null,
      "metadata": {
        "id": "9Qein-s_z3LP",
        "colab": {
          "base_uri": "https://localhost:8080/"
        },
        "outputId": "a27c705d-32e9-4433-f7bf-d7abcc97c30e"
      },
      "outputs": [
        {
          "output_type": "stream",
          "name": "stdout",
          "text": [
            " b is greater\n"
          ]
        }
      ],
      "source": [
        "a = 4\n",
        "b = 6\n",
        "\n",
        "if a>b:\n",
        "  print(\"a is greater\") # here this is if else statement when we write if statement and this colon indicate and make a block and the statement inside the block execute if statement is true.\n",
        "else:\n",
        "  print(\" b is greater\")  "
      ]
    },
    {
      "cell_type": "code",
      "source": [
        "aa = 4\n",
        "if aa > 3:\n",
        "  print(\"a is greater\")\n",
        "  print(a)\n",
        "  print(a+10)\n",
        "else:\n",
        "  print(\"NONE\")  \n",
        "  "
      ],
      "metadata": {
        "id": "C43JWOU0MNq1",
        "colab": {
          "base_uri": "https://localhost:8080/"
        },
        "outputId": "2b8da8d9-a41f-4fc8-d59a-9a0f3cb5f66c"
      },
      "execution_count": null,
      "outputs": [
        {
          "output_type": "stream",
          "name": "stdout",
          "text": [
            "a is greater\n",
            "4\n",
            "14\n"
          ]
        }
      ]
    },
    {
      "cell_type": "markdown",
      "source": [
        "# DATA STRUCTURE AND DATA TYPES IN PYTHON ----->"
      ],
      "metadata": {
        "id": "_9Xh25feRECY"
      }
    },
    {
      "cell_type": "markdown",
      "source": [
        "*Numeric data types:   int, float, complex.\n",
        "\n",
        "*String data types:  str.\n",
        "\n",
        "*Sequence types:  list, tuple.\n",
        "\n",
        "*Binary types:  bytes, bytearray.\n",
        "\n",
        "*Mapping data type:   dict.\n",
        "\n",
        "*Boolean type:   bool.\n",
        "\n"
      ],
      "metadata": {
        "id": "a-Kq-hLORZHG"
      }
    },
    {
      "cell_type": "markdown",
      "source": [
        "-->  **numeric data type**  -->"
      ],
      "metadata": {
        "id": "YUT-jdncUVlq"
      }
    },
    {
      "cell_type": "code",
      "source": [
        "a = 2.3  # Float is used to represent real numbers and is written with a decimal point dividing the integer and fractional parts. \n",
        "#For example, 97.98, 32.3+e18, -32.54e100 all are floating point numbers.\n",
        "type(a)"
      ],
      "metadata": {
        "colab": {
          "base_uri": "https://localhost:8080/"
        },
        "id": "RcysURfZQ-Df",
        "outputId": "5bc462e8-56f4-414d-d6d1-0e77f33fb0d2"
      },
      "execution_count": null,
      "outputs": [
        {
          "output_type": "execute_result",
          "data": {
            "text/plain": [
              "float"
            ]
          },
          "metadata": {},
          "execution_count": 5
        }
      ]
    },
    {
      "cell_type": "code",
      "source": [
        "a = 23    # INTEGER,It contains positive or negative whole numbers (without fraction or decimal).\n",
        "type(a)"
      ],
      "metadata": {
        "colab": {
          "base_uri": "https://localhost:8080/"
        },
        "id": "XsqjDa-PUrmm",
        "outputId": "1af7856f-00d0-45a8-eb7b-279a2dee48a5"
      },
      "execution_count": null,
      "outputs": [
        {
          "output_type": "execute_result",
          "data": {
            "text/plain": [
              "int"
            ]
          },
          "metadata": {},
          "execution_count": 7
        }
      ]
    },
    {
      "cell_type": "code",
      "source": [
        "a = (3 + 7j)  #The complex data type in python consists of two values, the first one is the real part of the complex number, and\n",
        "# the second one is the imaginary part of the complex number."
      ],
      "metadata": {
        "id": "_t1141XvXTw2"
      },
      "execution_count": null,
      "outputs": []
    },
    {
      "cell_type": "code",
      "source": [
        "type(a)"
      ],
      "metadata": {
        "colab": {
          "base_uri": "https://localhost:8080/"
        },
        "id": "IbWZiv9ZYFC0",
        "outputId": "45f6b7c6-d5b2-46a5-e6fe-80b886d0d5b6"
      },
      "execution_count": null,
      "outputs": [
        {
          "output_type": "execute_result",
          "data": {
            "text/plain": [
              "complex"
            ]
          },
          "metadata": {},
          "execution_count": 11
        }
      ]
    },
    {
      "cell_type": "code",
      "source": [
        "a = None #The None keyword and none data type is used to define a null value, or no value at all. None is not the same as 0, False\n",
        "type(a)"
      ],
      "metadata": {
        "colab": {
          "base_uri": "https://localhost:8080/"
        },
        "id": "v7gdeWCAYgi3",
        "outputId": "5b13c0bf-8577-4f61-a35b-7fcda4107b42"
      },
      "execution_count": null,
      "outputs": [
        {
          "output_type": "execute_result",
          "data": {
            "text/plain": [
              "NoneType"
            ]
          },
          "metadata": {},
          "execution_count": 13
        }
      ]
    },
    {
      "cell_type": "markdown",
      "source": [
        "# SEQUENCE DATA TYPE  ---->"
      ],
      "metadata": {
        "id": "9rXLOJRD_mxa"
      }
    },
    {
      "cell_type": "markdown",
      "source": [
        "# **STRING....**"
      ],
      "metadata": {
        "id": "h8TY-6fS_xp6"
      }
    },
    {
      "cell_type": "code",
      "source": [
        "str = \"coders ready\"  # string is data type written in double quotes.string is the immutable."
      ],
      "metadata": {
        "id": "Sgz8QJ98Znht"
      },
      "execution_count": null,
      "outputs": []
    },
    {
      "cell_type": "code",
      "source": [
        "print(str)   # access our string we made."
      ],
      "metadata": {
        "colab": {
          "base_uri": "https://localhost:8080/"
        },
        "id": "8_OY6emAzv-o",
        "outputId": "041f0741-08f7-40d4-9e95-7c3a73bc2b3e"
      },
      "execution_count": null,
      "outputs": [
        {
          "output_type": "stream",
          "name": "stdout",
          "text": [
            "coders ready\n"
          ]
        }
      ]
    },
    {
      "cell_type": "markdown",
      "source": [
        "## VARIOUS OPERATIONS ON STRING"
      ],
      "metadata": {
        "id": "oFdvXtOK0SiU"
      }
    },
    {
      "cell_type": "code",
      "source": [
        "str.capitalize()   # this operation make first letter capital and rest are in lower case."
      ],
      "metadata": {
        "colab": {
          "base_uri": "https://localhost:8080/",
          "height": 36
        },
        "id": "Tx25srg_0B2O",
        "outputId": "5cd82a6c-b12b-4cde-f28a-46070e975f63"
      },
      "execution_count": null,
      "outputs": [
        {
          "output_type": "execute_result",
          "data": {
            "text/plain": [
              "'Coders ready'"
            ],
            "application/vnd.google.colaboratory.intrinsic+json": {
              "type": "string"
            }
          },
          "metadata": {},
          "execution_count": 5
        }
      ]
    },
    {
      "cell_type": "code",
      "source": [
        "str[2]    # acccessing the element of string by index number start from 0."
      ],
      "metadata": {
        "colab": {
          "base_uri": "https://localhost:8080/",
          "height": 36
        },
        "id": "DEPCUaom01gM",
        "outputId": "97a2d46a-a75f-4dec-ec7f-534319ed7c96"
      },
      "execution_count": null,
      "outputs": [
        {
          "output_type": "execute_result",
          "data": {
            "text/plain": [
              "'d'"
            ],
            "application/vnd.google.colaboratory.intrinsic+json": {
              "type": "string"
            }
          },
          "metadata": {},
          "execution_count": 6
        }
      ]
    },
    {
      "cell_type": "code",
      "source": [
        "str.casefold()   # to make all letters in lower case."
      ],
      "metadata": {
        "colab": {
          "base_uri": "https://localhost:8080/",
          "height": 36
        },
        "id": "HMaPcC9r1FIP",
        "outputId": "8dcffc68-a8a7-402a-a11f-823632dd6a68"
      },
      "execution_count": null,
      "outputs": [
        {
          "output_type": "execute_result",
          "data": {
            "text/plain": [
              "'coders ready'"
            ],
            "application/vnd.google.colaboratory.intrinsic+json": {
              "type": "string"
            }
          },
          "metadata": {},
          "execution_count": 9
        }
      ]
    },
    {
      "cell_type": "code",
      "source": [
        "str.center(10) #Python String center() method creates and returns a new string that is padded with the specified character."
      ],
      "metadata": {
        "colab": {
          "base_uri": "https://localhost:8080/",
          "height": 36
        },
        "id": "Vfyi6S501bI-",
        "outputId": "4e89d290-71e7-4e80-f7f9-a0c0b9d3c50b"
      },
      "execution_count": null,
      "outputs": [
        {
          "output_type": "execute_result",
          "data": {
            "text/plain": [
              "'coders ready'"
            ],
            "application/vnd.google.colaboratory.intrinsic+json": {
              "type": "string"
            }
          },
          "metadata": {},
          "execution_count": 14
        }
      ]
    },
    {
      "cell_type": "code",
      "source": [
        "str.count('e')  # string count(), couunt number of time a element and a word be present in a string. syntax: stringname.count('element')"
      ],
      "metadata": {
        "colab": {
          "base_uri": "https://localhost:8080/"
        },
        "id": "bbwXJiz72lGO",
        "outputId": "16a6aa40-a0ce-4601-afbf-a6cffd91f6c8"
      },
      "execution_count": null,
      "outputs": [
        {
          "output_type": "execute_result",
          "data": {
            "text/plain": [
              "2"
            ]
          },
          "metadata": {},
          "execution_count": 15
        }
      ]
    },
    {
      "cell_type": "code",
      "source": [
        "str.find('e')  # find() in a string returns the index nummber of that element we searched. syntax: stringname.find('element')"
      ],
      "metadata": {
        "colab": {
          "base_uri": "https://localhost:8080/"
        },
        "id": "aCuknx2G3gcI",
        "outputId": "25914b1e-cfb0-4daa-b80a-4111faf433bb"
      },
      "execution_count": null,
      "outputs": [
        {
          "output_type": "execute_result",
          "data": {
            "text/plain": [
              "3"
            ]
          },
          "metadata": {},
          "execution_count": 16
        }
      ]
    },
    {
      "cell_type": "code",
      "source": [
        "str[2:7]   # slicing in a string, here we also access the small part of string"
      ],
      "metadata": {
        "colab": {
          "base_uri": "https://localhost:8080/",
          "height": 36
        },
        "id": "oL-vgknW3x4Q",
        "outputId": "da5e709d-921b-482a-b5a7-9786100dfe57"
      },
      "execution_count": null,
      "outputs": [
        {
          "output_type": "execute_result",
          "data": {
            "text/plain": [
              "'ders '"
            ],
            "application/vnd.google.colaboratory.intrinsic+json": {
              "type": "string"
            }
          },
          "metadata": {},
          "execution_count": 17
        }
      ]
    },
    {
      "cell_type": "code",
      "source": [
        "str[2:-3]   # slicing with negative index number from right side."
      ],
      "metadata": {
        "colab": {
          "base_uri": "https://localhost:8080/",
          "height": 36
        },
        "id": "BW3j_JqR4DdG",
        "outputId": "f266ef40-5c60-4541-a9d8-110338c7801a"
      },
      "execution_count": null,
      "outputs": [
        {
          "output_type": "execute_result",
          "data": {
            "text/plain": [
              "'ders re'"
            ],
            "application/vnd.google.colaboratory.intrinsic+json": {
              "type": "string"
            }
          },
          "metadata": {},
          "execution_count": 18
        }
      ]
    },
    {
      "cell_type": "code",
      "source": [
        "# formatting() in string.\n",
        "# The format() method formats the specified value(s) and insert them inside the string's placeholder.\n",
        "#The placeholder is defined using curly brackets: {}   syntax: string.format(value1, value2...)\n",
        "\n",
        "# for example let a new string we have as:     \n",
        "\n",
        "str1 = \"welcome to {} {}\""
      ],
      "metadata": {
        "id": "sCMGEFS94OmP"
      },
      "execution_count": null,
      "outputs": []
    },
    {
      "cell_type": "code",
      "source": [
        "str1.format(\"coders\", \"ready\")"
      ],
      "metadata": {
        "colab": {
          "base_uri": "https://localhost:8080/",
          "height": 36
        },
        "id": "mG5KnSaG47bA",
        "outputId": "59b0cfee-63f0-4398-fe74-838b06d0f698"
      },
      "execution_count": null,
      "outputs": [
        {
          "output_type": "execute_result",
          "data": {
            "text/plain": [
              "'welcome to coders ready'"
            ],
            "application/vnd.google.colaboratory.intrinsic+json": {
              "type": "string"
            }
          },
          "metadata": {},
          "execution_count": 27
        }
      ]
    },
    {
      "cell_type": "code",
      "source": [
        "str.index('e')  # to know the index of an element."
      ],
      "metadata": {
        "colab": {
          "base_uri": "https://localhost:8080/"
        },
        "id": "RoQ-X8Ui5DaC",
        "outputId": "5ff6f49c-af0e-4b12-c30d-b27d7e90817f"
      },
      "execution_count": null,
      "outputs": [
        {
          "output_type": "execute_result",
          "data": {
            "text/plain": [
              "3"
            ]
          },
          "metadata": {},
          "execution_count": 28
        }
      ]
    },
    {
      "cell_type": "markdown",
      "source": [
        "THIS IS THE ALL ARE IMPORTANT OPERATIONS OR METHODS DONE ON STRING.."
      ],
      "metadata": {
        "id": "cYfym-187Xfi"
      }
    },
    {
      "cell_type": "markdown",
      "source": [
        "# TUPLE DATA TYPE IN PYTHON ---->"
      ],
      "metadata": {
        "id": "KefrzIZq7y93"
      }
    },
    {
      "cell_type": "markdown",
      "source": [
        "Tuples are used to store multiple items in a single variable.\n",
        "A tuple is a collection which is ordered and unchangeable.\n",
        "Tuples are written with round brackets.\n",
        "When we say that tuples are ordered, it means that the items have a defined order, and that order will not change.\n",
        "\n"
      ],
      "metadata": {
        "id": "ed2D-p_h8Iy-"
      }
    },
    {
      "cell_type": "code",
      "source": [
        "tup1 = (5, 3.2, 'coders', None, True, (3, 4, 5))  # made a new tuple under round brackets... contains diffrent data types"
      ],
      "metadata": {
        "id": "d_Q9rDB9800M"
      },
      "execution_count": null,
      "outputs": []
    },
    {
      "cell_type": "markdown",
      "source": [
        "VARIOUS METHODS AND OPERATION ON TUPLE ----> "
      ],
      "metadata": {
        "id": "ILv01-qs8iiY"
      }
    },
    {
      "cell_type": "code",
      "source": [
        "tup1[0]   # accessing the element of list by index number."
      ],
      "metadata": {
        "id": "ApfztREi7Bqy",
        "colab": {
          "base_uri": "https://localhost:8080/"
        },
        "outputId": "41f6139c-b5bb-4ab8-c43e-c4b7da0acfa3"
      },
      "execution_count": null,
      "outputs": [
        {
          "output_type": "execute_result",
          "data": {
            "text/plain": [
              "5"
            ]
          },
          "metadata": {},
          "execution_count": 5
        }
      ]
    },
    {
      "cell_type": "code",
      "source": [
        "tup1[5] # accessing index number 5 element...."
      ],
      "metadata": {
        "colab": {
          "base_uri": "https://localhost:8080/"
        },
        "id": "7B02cfNWNIqm",
        "outputId": "deec977d-1f71-49b8-f2e7-b6c28b8a9420"
      },
      "execution_count": null,
      "outputs": [
        {
          "output_type": "execute_result",
          "data": {
            "text/plain": [
              "(3, 4, 5)"
            ]
          },
          "metadata": {},
          "execution_count": 7
        }
      ]
    },
    {
      "cell_type": "code",
      "source": [
        "tup1[5][1]   # accessing the [1] index number element of subtuple at index 5"
      ],
      "metadata": {
        "colab": {
          "base_uri": "https://localhost:8080/"
        },
        "id": "HSGqRG-dOn8f",
        "outputId": "5e407962-021f-49e6-88d1-784a6c55b5d8"
      },
      "execution_count": null,
      "outputs": [
        {
          "output_type": "execute_result",
          "data": {
            "text/plain": [
              "4"
            ]
          },
          "metadata": {},
          "execution_count": 9
        }
      ]
    },
    {
      "cell_type": "code",
      "source": [
        "tup1[-1]    # accessing elements of tuple from the right side using negative index number."
      ],
      "metadata": {
        "colab": {
          "base_uri": "https://localhost:8080/"
        },
        "id": "UZ9kvSnePAT9",
        "outputId": "1c452bbe-6fa7-4263-f669-6387ee873713"
      },
      "execution_count": null,
      "outputs": [
        {
          "output_type": "execute_result",
          "data": {
            "text/plain": [
              "(3, 4, 5)"
            ]
          },
          "metadata": {},
          "execution_count": 11
        }
      ]
    },
    {
      "cell_type": "code",
      "source": [
        "tup1[-1][2]   # accesssing the element of subtuple..."
      ],
      "metadata": {
        "colab": {
          "base_uri": "https://localhost:8080/"
        },
        "id": "qMNSPHzMPQfZ",
        "outputId": "84d9cfbd-3205-4263-f7e9-9a5119477795"
      },
      "execution_count": null,
      "outputs": [
        {
          "output_type": "execute_result",
          "data": {
            "text/plain": [
              "5"
            ]
          },
          "metadata": {},
          "execution_count": 12
        }
      ]
    },
    {
      "cell_type": "code",
      "source": [
        "  # concatenation of two tuples  as   ---->\n",
        "\n",
        "tup11 = ('hello', 22)"
      ],
      "metadata": {
        "id": "z_O3so69Purn"
      },
      "execution_count": null,
      "outputs": []
    },
    {
      "cell_type": "code",
      "source": [
        "tup22 = (' nishant', 222)"
      ],
      "metadata": {
        "id": "K0bI9111QG6D"
      },
      "execution_count": null,
      "outputs": []
    },
    {
      "cell_type": "code",
      "source": [
        "print(tup11 + tup22)"
      ],
      "metadata": {
        "colab": {
          "base_uri": "https://localhost:8080/"
        },
        "id": "1spEKxDWQv3w",
        "outputId": "c715fed7-76eb-4451-f751-5966993388f9"
      },
      "execution_count": null,
      "outputs": [
        {
          "output_type": "stream",
          "name": "stdout",
          "text": [
            "('hello', 22, ' nishant', 222)\n"
          ]
        }
      ]
    },
    {
      "cell_type": "code",
      "source": [
        "# nesting  of the tuples\n",
        "\n",
        "tup33 = (tup11 , tup22)"
      ],
      "metadata": {
        "id": "iieG2W6NQ5Vg"
      },
      "execution_count": null,
      "outputs": []
    },
    {
      "cell_type": "code",
      "source": [
        "tup33"
      ],
      "metadata": {
        "colab": {
          "base_uri": "https://localhost:8080/"
        },
        "id": "F-4sMDuJRtnU",
        "outputId": "2beff80f-d058-436d-a1a3-a55fd280f30b"
      },
      "execution_count": null,
      "outputs": [
        {
          "output_type": "execute_result",
          "data": {
            "text/plain": [
              "(('hello', 22), ' nishant')"
            ]
          },
          "metadata": {},
          "execution_count": 30
        }
      ]
    },
    {
      "cell_type": "code",
      "source": [
        "tup1.count(5)   # to count the number of times an element is present in tuple.  syntax: tuplename.count(element)"
      ],
      "metadata": {
        "colab": {
          "base_uri": "https://localhost:8080/"
        },
        "id": "H8qPGjMNUHg4",
        "outputId": "0eaad8f5-6606-42be-fd0b-2b0d05bf934a"
      },
      "execution_count": null,
      "outputs": [
        {
          "output_type": "execute_result",
          "data": {
            "text/plain": [
              "1"
            ]
          },
          "metadata": {},
          "execution_count": 24
        }
      ]
    },
    {
      "cell_type": "code",
      "source": [
        "tup1.index(5)    # to know the index number of an specific element.   syntax: tuplename.index(element)"
      ],
      "metadata": {
        "colab": {
          "base_uri": "https://localhost:8080/"
        },
        "id": "BKLERDVuUaTQ",
        "outputId": "0c6343be-b727-47ff-b919-3f8ce089c516"
      },
      "execution_count": null,
      "outputs": [
        {
          "output_type": "execute_result",
          "data": {
            "text/plain": [
              "0"
            ]
          },
          "metadata": {},
          "execution_count": 25
        }
      ]
    },
    {
      "cell_type": "code",
      "source": [
        "tup1[1:3]  # slicing in the tuple is all similar to the slicing in the string...."
      ],
      "metadata": {
        "colab": {
          "base_uri": "https://localhost:8080/"
        },
        "id": "QUj8CIoZUs4N",
        "outputId": "50c02980-a2ab-4fc8-f914-a0d5f65ede30"
      },
      "execution_count": null,
      "outputs": [
        {
          "output_type": "execute_result",
          "data": {
            "text/plain": [
              "(3.2, 'coders')"
            ]
          },
          "metadata": {},
          "execution_count": 34
        }
      ]
    },
    {
      "cell_type": "markdown",
      "source": [
        "### LIST DATA TYPE ---->"
      ],
      "metadata": {
        "id": "5noCncuBW3sL"
      }
    },
    {
      "cell_type": "markdown",
      "source": [
        "A single list may contain DataTypes like Integers, Strings, as well as Objects. Lists are mutable, and hence, they can be altered even after their creation.\n",
        "\n",
        "Lists in Python can be created by just placing the sequence inside the square brackets[] and elements in lists are seperated by comma."
      ],
      "metadata": {
        "id": "kdFMOaarsZGM"
      }
    },
    {
      "cell_type": "markdown",
      "source": [
        "syntax:     listname = [elements]"
      ],
      "metadata": {
        "id": "oORT6Yd5skbR"
      }
    },
    {
      "cell_type": "code",
      "source": [
        "# creating a list --->\n",
        "\n",
        "lst1 = [5, 3.2, 'coders', None, True, (3,2,4)]\n"
      ],
      "metadata": {
        "id": "s1e9qfifWdXS"
      },
      "execution_count": null,
      "outputs": []
    },
    {
      "cell_type": "code",
      "source": [
        "print(lst1)  # printing the elements of list...."
      ],
      "metadata": {
        "colab": {
          "base_uri": "https://localhost:8080/"
        },
        "id": "R9-G6RC7ts1T",
        "outputId": "0d71ed5c-1ade-489e-e12d-eb31e70e5128"
      },
      "execution_count": null,
      "outputs": [
        {
          "output_type": "stream",
          "name": "stdout",
          "text": [
            "[5, 3.2, 'coders', None, True, (3, 2, 4)]\n"
          ]
        }
      ]
    },
    {
      "cell_type": "markdown",
      "source": [
        "## OPERATIONS ON LIST -->"
      ],
      "metadata": {
        "id": "L09cVFYvI5t8"
      }
    },
    {
      "cell_type": "code",
      "source": [
        "lst1.append('nish')    # The append() method appends/add an element to the end of the list. syntax:  listname.append(elmnt)."
      ],
      "metadata": {
        "id": "PWKLkPgjtucR"
      },
      "execution_count": null,
      "outputs": []
    },
    {
      "cell_type": "code",
      "source": [
        "lst1   # new and modified list access."
      ],
      "metadata": {
        "colab": {
          "base_uri": "https://localhost:8080/"
        },
        "id": "_eydpYjIuewZ",
        "outputId": "24dcfdb8-a9e2-495d-a422-37d84398bb7b"
      },
      "execution_count": null,
      "outputs": [
        {
          "output_type": "execute_result",
          "data": {
            "text/plain": [
              "[5, 3.2, 'coders', None, True, (3, 2, 4), 'nish']"
            ]
          },
          "metadata": {},
          "execution_count": 5
        }
      ]
    },
    {
      "cell_type": "code",
      "source": [
        "lst1.insert(0, 555)   # insert also add elements as that to append function but append adds the elements at end of list.\n",
        "                         # whereas, with insert function we add element at a specific index   -->  syntax:  listname.insert(index, element)"
      ],
      "metadata": {
        "id": "7dZ_3iy5uraX"
      },
      "execution_count": null,
      "outputs": []
    },
    {
      "cell_type": "code",
      "source": [
        "lst1   # accessing new list. Here at 0 index 555 element is insert"
      ],
      "metadata": {
        "colab": {
          "base_uri": "https://localhost:8080/"
        },
        "id": "Ux_r33Wnv0gW",
        "outputId": "cc580b9c-7bc4-41dc-9090-f2fd5a35390e"
      },
      "execution_count": null,
      "outputs": [
        {
          "output_type": "execute_result",
          "data": {
            "text/plain": [
              "[555, 5, 3.2, 'coders', None, True, (3, 2, 4), 'nish']"
            ]
          },
          "metadata": {},
          "execution_count": 7
        }
      ]
    },
    {
      "cell_type": "code",
      "source": [
        "lst1.extend([33, 'Nishant', 5.2])   # extend() function is also used to add up an element but their are multiple elements add at same time at end.\n",
        "                                    # Syntax: list.extend(iterable)\n",
        "\n",
        "                                    #Parameters include :\n",
        "                                    # iterable: Any iterable (list, set, tuple, etc.)"
      ],
      "metadata": {
        "id": "N7mlT4ZXv10X"
      },
      "execution_count": null,
      "outputs": []
    },
    {
      "cell_type": "code",
      "source": [
        "lst1  # modified list accessed."
      ],
      "metadata": {
        "colab": {
          "base_uri": "https://localhost:8080/"
        },
        "id": "KoYcDkzlw4pf",
        "outputId": "34c16eca-ce58-4973-8996-bd73a7d58e0f"
      },
      "execution_count": null,
      "outputs": [
        {
          "output_type": "execute_result",
          "data": {
            "text/plain": [
              "[555, 5, 3.2, 'coders', None, True, (3, 2, 4), 'nish', 33, 'Nishant', 5.2]"
            ]
          },
          "metadata": {},
          "execution_count": 9
        }
      ]
    },
    {
      "cell_type": "code",
      "source": [
        "lst1.remove(None)   # for removing an element from list. Error arise if we remove element which is not present in list.\n",
        "                # removes method or function only removes one element at one time which we specified.  syntax: listname.remove(element).\n"
      ],
      "metadata": {
        "id": "VYZ-3EkmyoC3"
      },
      "execution_count": null,
      "outputs": []
    },
    {
      "cell_type": "code",
      "source": [
        "lst1   #remove None.."
      ],
      "metadata": {
        "colab": {
          "base_uri": "https://localhost:8080/"
        },
        "id": "28DCHznI20hw",
        "outputId": "de1e9917-898e-421d-f148-eb9bdffbcb6b"
      },
      "execution_count": null,
      "outputs": [
        {
          "output_type": "execute_result",
          "data": {
            "text/plain": [
              "[555, 5, 3.2, 'coders', True, (3, 2, 4), 'nish', 33, 'Nishant', 5.2]"
            ]
          },
          "metadata": {},
          "execution_count": 11
        }
      ]
    },
    {
      "cell_type": "code",
      "source": [
        "lst1.reverse()   # a list's elements can be reversed with the reverse method.  syntax:  listname.reverse()"
      ],
      "metadata": {
        "id": "xobvnNR0247e"
      },
      "execution_count": null,
      "outputs": []
    },
    {
      "cell_type": "code",
      "source": [
        "lst1  # access the reverse list."
      ],
      "metadata": {
        "colab": {
          "base_uri": "https://localhost:8080/"
        },
        "id": "Y-np5iQp9ndJ",
        "outputId": "d9169366-243c-4c47-b753-b065b1b2770a"
      },
      "execution_count": null,
      "outputs": [
        {
          "output_type": "execute_result",
          "data": {
            "text/plain": [
              "[5.2, 'Nishant', 33, 'nish', (3, 2, 4), True, 'coders', 3.2, 5, 555]"
            ]
          },
          "metadata": {},
          "execution_count": 13
        }
      ]
    },
    {
      "cell_type": "code",
      "source": [
        "#  Python list pop() is an inbuilt function in Python that removes and returns the last value from the List or the given index value.\n",
        "#  syntax : listname.pop(index number of element to popped)\n",
        "\n",
        "lst1.pop(3)  # pop the index numbr 3 element.  poped element is return and is remove from list"
      ],
      "metadata": {
        "colab": {
          "base_uri": "https://localhost:8080/",
          "height": 36
        },
        "id": "R-jrOq8695mG",
        "outputId": "794efa09-9ab3-41ad-996b-ef7f4972daa2"
      },
      "execution_count": null,
      "outputs": [
        {
          "output_type": "execute_result",
          "data": {
            "text/plain": [
              "'nish'"
            ],
            "application/vnd.google.colaboratory.intrinsic+json": {
              "type": "string"
            }
          },
          "metadata": {},
          "execution_count": 14
        }
      ]
    },
    {
      "cell_type": "code",
      "source": [
        "lst1  # here, popped element remove."
      ],
      "metadata": {
        "colab": {
          "base_uri": "https://localhost:8080/"
        },
        "id": "ZmlwjtQp-hDX",
        "outputId": "e1bfd0ba-ccd6-4747-f563-9c803daf93c0"
      },
      "execution_count": null,
      "outputs": [
        {
          "output_type": "execute_result",
          "data": {
            "text/plain": [
              "[5.2, 'Nishant', 33, (3, 2, 4), True, 'coders', 3.2, 5, 555]"
            ]
          },
          "metadata": {},
          "execution_count": 15
        }
      ]
    },
    {
      "cell_type": "code",
      "source": [
        "# index() function is used for know the index value of an element present in the list.\n",
        "# syntax:  listname.index(element)\n",
        "\n",
        "lst1.index(3.2)"
      ],
      "metadata": {
        "colab": {
          "base_uri": "https://localhost:8080/"
        },
        "id": "78sxg_P0-1Ny",
        "outputId": "29cffc0f-c3d8-4c63-f52f-b4822a58fa25"
      },
      "execution_count": null,
      "outputs": [
        {
          "output_type": "execute_result",
          "data": {
            "text/plain": [
              "6"
            ]
          },
          "metadata": {},
          "execution_count": 16
        }
      ]
    },
    {
      "cell_type": "code",
      "source": [
        "# count() function is used to count the number of time an element is presence in the list.\n",
        "# syntax:  listname.count(element)\n",
        "lst1.count(5)"
      ],
      "metadata": {
        "colab": {
          "base_uri": "https://localhost:8080/"
        },
        "id": "uIGyGdcE_OUW",
        "outputId": "30fb7b01-5e36-4803-a9ec-3571d527a4d3"
      },
      "execution_count": null,
      "outputs": [
        {
          "output_type": "execute_result",
          "data": {
            "text/plain": [
              "1"
            ]
          },
          "metadata": {},
          "execution_count": 17
        }
      ]
    },
    {
      "cell_type": "code",
      "source": [
        "# copy() function or method returns the copy of a list.\n",
        "#  syntax : listname.copy()\n",
        "lst1.copy()  # it return a copy of our list."
      ],
      "metadata": {
        "colab": {
          "base_uri": "https://localhost:8080/"
        },
        "id": "7fHSeci7_l2S",
        "outputId": "eaf314a6-cea5-4211-bd3b-57d31fdee069"
      },
      "execution_count": null,
      "outputs": [
        {
          "output_type": "execute_result",
          "data": {
            "text/plain": [
              "[5.2, 'Nishant', 33, (3, 2, 4), True, 'coders', 3.2, 5, 555]"
            ]
          },
          "metadata": {},
          "execution_count": 18
        }
      ]
    },
    {
      "cell_type": "code",
      "source": [
        "# sort() function or method is used for sorting our list into an ascending order. Only integers can be sorted.\n",
        "# synatx:   listname.sort()\n",
        "\n",
        "# let a list have integers as\n",
        "\n",
        "listt = [334, 2, 4387, 322832, 73297, 98329, 33, 22]"
      ],
      "metadata": {
        "id": "gPfbxOft_3Il"
      },
      "execution_count": null,
      "outputs": []
    },
    {
      "cell_type": "code",
      "source": [
        "listt.sort()"
      ],
      "metadata": {
        "id": "69gy9rZzAZeT"
      },
      "execution_count": null,
      "outputs": []
    },
    {
      "cell_type": "code",
      "source": [
        "print(listt)  # arrange all integers into ascending order."
      ],
      "metadata": {
        "colab": {
          "base_uri": "https://localhost:8080/"
        },
        "id": "jKN7wUcaAcJK",
        "outputId": "27073bad-502e-4b9c-f1f3-fc978a6183fe"
      },
      "execution_count": null,
      "outputs": [
        {
          "output_type": "stream",
          "name": "stdout",
          "text": [
            "[2, 22, 33, 334, 4387, 73297, 98329, 322832]\n"
          ]
        }
      ]
    },
    {
      "cell_type": "code",
      "source": [
        "# clear() method or function are used for clear all the lements of list.\n",
        "# syntax:  listname.clear()\n",
        "listt.clear()    # clear the list we made of name \"listt\""
      ],
      "metadata": {
        "id": "SewtRsyRAhFr"
      },
      "execution_count": null,
      "outputs": []
    },
    {
      "cell_type": "code",
      "source": [
        "print(listt)  # clear done! no element present in list and list become an empty list."
      ],
      "metadata": {
        "colab": {
          "base_uri": "https://localhost:8080/"
        },
        "id": "9w5MUL5oA5fE",
        "outputId": "33968752-d0e4-4b0f-ca9a-519d3a47bc90"
      },
      "execution_count": null,
      "outputs": [
        {
          "output_type": "stream",
          "name": "stdout",
          "text": [
            "[]\n"
          ]
        }
      ]
    },
    {
      "cell_type": "markdown",
      "source": [
        "# DICTIONARIES IN PYTHON -->"
      ],
      "metadata": {
        "id": "IEOVejQ3BV5R"
      }
    },
    {
      "cell_type": "markdown",
      "source": [
        "*Dictionary in Python is a collection of keys values, used to store data values like a map, which, unlike other data types which hold only a single value as an element.Dictionary can be created by sequence of key vakues by using the curly braces{}. keys and value are written under single quotes\n",
        "\n",
        "*Values in a dictionary can be of any data type and can be duplicate but keys can't be duplicate and immutable in nature.\n",
        "Dictionary keys are sensitive the upper case key and lower case key both can be treated as a two keys.\n",
        "\n",
        "\n",
        "\n",
        "\n",
        "\n"
      ],
      "metadata": {
        "id": "Z1mfxCSsCQhn"
      }
    },
    {
      "cell_type": "code",
      "source": [
        "# creating a dictionaries of having different key value.\n",
        "#  syntax:  dictionary_name = {key: value}\n",
        "\n",
        "dict1 = {'name': 'nish', 'email': '@123', 'sem': 'third'}"
      ],
      "metadata": {
        "id": "Y0eklkZkBDHW"
      },
      "execution_count": null,
      "outputs": []
    },
    {
      "cell_type": "code",
      "source": [
        "print(dict1) # access the dictionary we made."
      ],
      "metadata": {
        "colab": {
          "base_uri": "https://localhost:8080/"
        },
        "id": "hF_-wMeZJL2Z",
        "outputId": "fe8981dc-326c-4cc0-a20d-305e646fc04c"
      },
      "execution_count": null,
      "outputs": [
        {
          "output_type": "stream",
          "name": "stdout",
          "text": [
            "{'name': 'nish', 'email': '@123', 'sem': 'third'}\n"
          ]
        }
      ]
    },
    {
      "cell_type": "code",
      "source": [
        "dict1['name']  # access the value of key (name)"
      ],
      "metadata": {
        "colab": {
          "base_uri": "https://localhost:8080/",
          "height": 36
        },
        "id": "I78Nd7sMJ3oN",
        "outputId": "11eba6b8-e197-4076-ac92-f5f3f1b68f3d"
      },
      "execution_count": null,
      "outputs": [
        {
          "output_type": "execute_result",
          "data": {
            "text/plain": [
              "'nish'"
            ],
            "application/vnd.google.colaboratory.intrinsic+json": {
              "type": "string"
            }
          },
          "metadata": {},
          "execution_count": 27
        }
      ]
    },
    {
      "cell_type": "markdown",
      "source": [
        "## OPERATIONS ON THE DICTIONARIES ---->"
      ],
      "metadata": {
        "id": "VsC4RXcRI_kb"
      }
    },
    {
      "cell_type": "code",
      "source": [
        "#Python Dictionary update() method updates the dictionary with the elements from another dictionary object or from an iterable of key/value pairs.\n",
        "\n",
        "#  Syntax: dict.update({key : value})\n",
        "\n",
        "dict1.update({'name': 'Nishant'})  # update our key(name) value from 'nish' to 'Nishant'"
      ],
      "metadata": {
        "id": "CPgdiJIoG76A"
      },
      "execution_count": null,
      "outputs": []
    },
    {
      "cell_type": "code",
      "source": [
        "dict1"
      ],
      "metadata": {
        "colab": {
          "base_uri": "https://localhost:8080/"
        },
        "id": "wO_XdB76Kw07",
        "outputId": "ad817908-d86b-4f9e-9df8-4179d6452927"
      },
      "execution_count": null,
      "outputs": [
        {
          "output_type": "execute_result",
          "data": {
            "text/plain": [
              "{'name': 'Nishant', 'email': '@123', 'sem': 'third'}"
            ]
          },
          "metadata": {},
          "execution_count": 30
        }
      ]
    },
    {
      "cell_type": "code",
      "source": [
        "# copy() function or method returns the copy of a dictionary.\n",
        "#  syntax : dictionary_name.copy()\n",
        "dict1.copy()"
      ],
      "metadata": {
        "colab": {
          "base_uri": "https://localhost:8080/"
        },
        "id": "qvq8FvdqLErF",
        "outputId": "e1f49853-72d5-4168-ecce-513ce74e8d16"
      },
      "execution_count": null,
      "outputs": [
        {
          "output_type": "execute_result",
          "data": {
            "text/plain": [
              "{'name': 'Nishant', 'email': '@123', 'sem': 'third'}"
            ]
          },
          "metadata": {},
          "execution_count": 31
        }
      ]
    },
    {
      "cell_type": "code",
      "source": [
        "# item() functin returns a list containing tuple fpr each key value pair.\n",
        "# it converts dictionary into list which contains tuple of key value pair.  syntax : dictnary_name.items()\n",
        "dict1.items()"
      ],
      "metadata": {
        "colab": {
          "base_uri": "https://localhost:8080/"
        },
        "id": "kzkBE4QVL4i4",
        "outputId": "bc493e4a-7732-4c2a-8d8c-c8bd87ccf9f9"
      },
      "execution_count": null,
      "outputs": [
        {
          "output_type": "execute_result",
          "data": {
            "text/plain": [
              "dict_items([('name', 'Nishant'), ('email', '@123'), ('sem', 'third')])"
            ]
          },
          "metadata": {},
          "execution_count": 32
        }
      ]
    },
    {
      "cell_type": "code",
      "source": [
        "dict1.keys()  # for accessing the only all keys of an dictionary\n"
      ],
      "metadata": {
        "colab": {
          "base_uri": "https://localhost:8080/"
        },
        "id": "scxpGSSlMkuf",
        "outputId": "9af35096-c181-45c7-e68e-e34cbdf076a0"
      },
      "execution_count": null,
      "outputs": [
        {
          "output_type": "execute_result",
          "data": {
            "text/plain": [
              "dict_keys(['name', 'email', 'sem'])"
            ]
          },
          "metadata": {},
          "execution_count": 33
        }
      ]
    },
    {
      "cell_type": "code",
      "source": [
        "dict1.values()  # for accessing the only all values of an dictionary."
      ],
      "metadata": {
        "colab": {
          "base_uri": "https://localhost:8080/"
        },
        "id": "BPdK-GpINIK1",
        "outputId": "ca0048d8-cc61-4463-f66c-c705763d829a"
      },
      "execution_count": null,
      "outputs": [
        {
          "output_type": "execute_result",
          "data": {
            "text/plain": [
              "dict_values(['Nishant', '@123', 'third'])"
            ]
          },
          "metadata": {},
          "execution_count": 34
        }
      ]
    },
    {
      "cell_type": "code",
      "source": [
        "# Python dictionary pop() method removes and returns the specified element from the dictionary.\n",
        "# syntax:  dictionary_name.pop('key')\n",
        "dict1.pop('email') # it returns the key- mail with its value and remove it from dictionary."
      ],
      "metadata": {
        "colab": {
          "base_uri": "https://localhost:8080/",
          "height": 36
        },
        "id": "-jhMgRFgNTOR",
        "outputId": "9152fe45-ef36-4d73-8bb4-2f45d49b58ea"
      },
      "execution_count": null,
      "outputs": [
        {
          "output_type": "execute_result",
          "data": {
            "text/plain": [
              "'@123'"
            ],
            "application/vnd.google.colaboratory.intrinsic+json": {
              "type": "string"
            }
          },
          "metadata": {},
          "execution_count": 35
        }
      ]
    },
    {
      "cell_type": "code",
      "source": [
        "dict1   # remove mail key value pair by pop() function"
      ],
      "metadata": {
        "colab": {
          "base_uri": "https://localhost:8080/"
        },
        "id": "5qKOGZlwOcxC",
        "outputId": "18d1346f-eaf1-4d74-a746-c8773f04104b"
      },
      "execution_count": null,
      "outputs": [
        {
          "output_type": "execute_result",
          "data": {
            "text/plain": [
              "{'name': 'Nishant', 'sem': 'third'}"
            ]
          },
          "metadata": {},
          "execution_count": 36
        }
      ]
    },
    {
      "cell_type": "code",
      "source": [
        "# The Python popitem() method removes and returns the last element (key, value) pair inserted into the dictionary.\n",
        "# it is similar to pop() but it automatically return the last enter key value pair from dictionary and remove it."
      ],
      "metadata": {
        "id": "wKsFKffWOitz"
      },
      "execution_count": null,
      "outputs": []
    },
    {
      "cell_type": "code",
      "source": [
        "# set default() method returns value of item. when a key is not in dictionary then it will insert that key into dictionary.\n",
        "#  we set it to given value anf if their is no value it will None defaultly.\n",
        "dict1.setdefault('mail', '@123')   # not in dictionary but it returns its value we set."
      ],
      "metadata": {
        "colab": {
          "base_uri": "https://localhost:8080/",
          "height": 36
        },
        "id": "T4l6YpnaPKD0",
        "outputId": "49243794-4eea-4a80-8034-ac6e2b191ebd"
      },
      "execution_count": null,
      "outputs": [
        {
          "output_type": "execute_result",
          "data": {
            "text/plain": [
              "'@123'"
            ],
            "application/vnd.google.colaboratory.intrinsic+json": {
              "type": "string"
            }
          },
          "metadata": {},
          "execution_count": 13
        }
      ]
    },
    {
      "cell_type": "code",
      "source": [
        "dict1    ## add the key value into dictionary because key we search not in the dictionary."
      ],
      "metadata": {
        "colab": {
          "base_uri": "https://localhost:8080/"
        },
        "id": "MDbuU1b0QCDK",
        "outputId": "b5dfe05c-2d4c-45a3-abc3-09b2da60d469"
      },
      "execution_count": null,
      "outputs": [
        {
          "output_type": "execute_result",
          "data": {
            "text/plain": [
              "{'name': 'Nishant', 'sem': 'third', 'mail': '@123'}"
            ]
          },
          "metadata": {},
          "execution_count": 46
        }
      ]
    },
    {
      "cell_type": "code",
      "source": [
        "dict1.setdefault('maill', '@12333')"
      ],
      "metadata": {
        "colab": {
          "base_uri": "https://localhost:8080/",
          "height": 36
        },
        "id": "mp_c7STEQGtU",
        "outputId": "a1e6b396-912b-415d-fe86-4b7d7bd66840"
      },
      "execution_count": null,
      "outputs": [
        {
          "output_type": "execute_result",
          "data": {
            "text/plain": [
              "'@12333'"
            ],
            "application/vnd.google.colaboratory.intrinsic+json": {
              "type": "string"
            }
          },
          "metadata": {},
          "execution_count": 14
        }
      ]
    },
    {
      "cell_type": "code",
      "source": [
        "print(dict1)  # add the key value into dictionary because key we search not in the dictionary."
      ],
      "metadata": {
        "colab": {
          "base_uri": "https://localhost:8080/"
        },
        "id": "HfyXurM3QrxP",
        "outputId": "f867c67b-df67-42b5-bd51-45d7d1543b4c"
      },
      "execution_count": null,
      "outputs": [
        {
          "output_type": "stream",
          "name": "stdout",
          "text": [
            "{'name': 'nish', 'email': '@123', 'sem': 'third', 'mail': '@123', 'maill': '@12333'}\n"
          ]
        }
      ]
    },
    {
      "cell_type": "code",
      "source": [
        "# the function fromkeys() which retuurns the dictionary with key mapped and specific value.\n",
        "#  syntax:  dictionary_name.fromkeys(sequence, value); sequence is the element transformed into dictionary.\n",
        "\n",
        "dict1.fromkeys('name', 'nish')  # it returns a dictionary.  here, if their is no  value of keys then it will set to None."
      ],
      "metadata": {
        "id": "TuNoMmtnQxRv",
        "colab": {
          "base_uri": "https://localhost:8080/"
        },
        "outputId": "7e41665b-1fda-4e6a-8282-2ada7cc8c117"
      },
      "execution_count": null,
      "outputs": [
        {
          "output_type": "execute_result",
          "data": {
            "text/plain": [
              "{'n': 'nish', 'a': 'nish', 'm': 'nish', 'e': 'nish'}"
            ]
          },
          "metadata": {},
          "execution_count": 17
        }
      ]
    },
    {
      "cell_type": "code",
      "source": [
        "# clear() method or function are used for clear all the elements of dictionary.\n",
        "# syntax:  dictionaryname.clear()\n",
        "dict1.clear()"
      ],
      "metadata": {
        "id": "3-Izocg5nvtl"
      },
      "execution_count": null,
      "outputs": []
    },
    {
      "cell_type": "code",
      "source": [
        "dict1  # empty all the dictionary."
      ],
      "metadata": {
        "colab": {
          "base_uri": "https://localhost:8080/"
        },
        "id": "gX-5c0WAozfh",
        "outputId": "6884d4c2-f100-4ccc-9fc9-0e1f81fa96b2"
      },
      "execution_count": null,
      "outputs": [
        {
          "output_type": "execute_result",
          "data": {
            "text/plain": [
              "{}"
            ]
          },
          "metadata": {},
          "execution_count": 19
        }
      ]
    },
    {
      "cell_type": "markdown",
      "source": [
        "# SETS IN PYTHON..."
      ],
      "metadata": {
        "id": "9K0W-gbKo6oP"
      }
    },
    {
      "cell_type": "markdown",
      "source": [
        "A Set is an unordered collection data type that is iterable, mutable and has no duplicate elements. \n",
        "\n",
        "Set are represented by { } (values enclosed in curly braces)"
      ],
      "metadata": {
        "id": "lgxiM0mrpNhd"
      }
    },
    {
      "cell_type": "code",
      "source": [
        "# creating the set....\n",
        "s1 = {23, 34, 22, 44, 42, 55, 56, 11, 'nish'}   "
      ],
      "metadata": {
        "id": "SIMVxu4kpe0e"
      },
      "execution_count": null,
      "outputs": []
    },
    {
      "cell_type": "code",
      "source": [
        "type(s1)"
      ],
      "metadata": {
        "colab": {
          "base_uri": "https://localhost:8080/"
        },
        "id": "0vkcH2_2qcXg",
        "outputId": "678e5f2c-3872-470b-9ff2-3285851b80b2"
      },
      "execution_count": null,
      "outputs": [
        {
          "output_type": "execute_result",
          "data": {
            "text/plain": [
              "set"
            ]
          },
          "metadata": {},
          "execution_count": 29
        }
      ]
    },
    {
      "cell_type": "code",
      "source": [
        "s1   # when we access our set then then all integers are sorted in ascending order automatically."
      ],
      "metadata": {
        "colab": {
          "base_uri": "https://localhost:8080/"
        },
        "id": "L7mEkPpsqgq-",
        "outputId": "48b2cc99-ca8e-4e7b-d953-5c088a99d7be"
      },
      "execution_count": null,
      "outputs": [
        {
          "output_type": "execute_result",
          "data": {
            "text/plain": [
              "{11, 22, 23, 34, 42, 44, 55, 56, 'nish'}"
            ]
          },
          "metadata": {},
          "execution_count": 30
        }
      ]
    },
    {
      "cell_type": "markdown",
      "source": [
        "# METHODS AND FUNCTION OF SET:"
      ],
      "metadata": {
        "id": "A8YDucqcrCmO"
      }
    },
    {
      "cell_type": "code",
      "source": [
        "s11 = {2, 33, 3, 67, 6, 4, 99}"
      ],
      "metadata": {
        "id": "KeNo5xfXqjS-"
      },
      "execution_count": null,
      "outputs": []
    },
    {
      "cell_type": "code",
      "source": [
        "s11.add(0)   # insertion in done through the add function. syntax: set_name.add(element to be added)"
      ],
      "metadata": {
        "id": "yXUsoUGprmFq"
      },
      "execution_count": null,
      "outputs": []
    },
    {
      "cell_type": "code",
      "source": [
        "s11"
      ],
      "metadata": {
        "colab": {
          "base_uri": "https://localhost:8080/"
        },
        "id": "xVQTYnQ8ryHl",
        "outputId": "6d11a516-e830-432e-b2fa-f6be7e2eebdc"
      },
      "execution_count": null,
      "outputs": [
        {
          "output_type": "execute_result",
          "data": {
            "text/plain": [
              "{0, 2, 3, 4, 6, 33, 67, 99}"
            ]
          },
          "metadata": {},
          "execution_count": 6
        }
      ]
    },
    {
      "cell_type": "code",
      "source": [
        "s11.add(999)   # add 999 at specific position automatically in ascending order."
      ],
      "metadata": {
        "id": "dUcHFT2ErzQV"
      },
      "execution_count": null,
      "outputs": []
    },
    {
      "cell_type": "code",
      "source": [
        "s11"
      ],
      "metadata": {
        "colab": {
          "base_uri": "https://localhost:8080/"
        },
        "id": "6UvmG5PJ26M_",
        "outputId": "22b3dabf-30ad-420c-bf56-646ec4868dc5"
      },
      "execution_count": null,
      "outputs": [
        {
          "output_type": "execute_result",
          "data": {
            "text/plain": [
              "{0, 2, 3, 4, 6, 33, 67, 99, 999}"
            ]
          },
          "metadata": {},
          "execution_count": 8
        }
      ]
    },
    {
      "cell_type": "code",
      "source": [
        "# union operation, here two sets are merge together using union.   syntax: set1.union(set2)\n",
        "s22 = {2, 44, 66, 5}\n",
        "s11.union(s22)  # also write as s11 | s22"
      ],
      "metadata": {
        "colab": {
          "base_uri": "https://localhost:8080/"
        },
        "id": "eBneHTck27sa",
        "outputId": "5f7ce75b-b5d3-4636-939c-61bade07f42a"
      },
      "execution_count": null,
      "outputs": [
        {
          "output_type": "execute_result",
          "data": {
            "text/plain": [
              "{0, 2, 3, 4, 5, 6, 33, 44, 66, 67, 99, 999}"
            ]
          },
          "metadata": {},
          "execution_count": 9
        }
      ]
    },
    {
      "cell_type": "code",
      "source": [
        "s11 | s22"
      ],
      "metadata": {
        "colab": {
          "base_uri": "https://localhost:8080/"
        },
        "id": "-R4znynU56Q0",
        "outputId": "512bd904-db96-4eb1-8789-c1ce5339feff"
      },
      "execution_count": null,
      "outputs": [
        {
          "output_type": "execute_result",
          "data": {
            "text/plain": [
              "{0, 2, 3, 4, 5, 6, 33, 44, 66, 67, 99, 999}"
            ]
          },
          "metadata": {},
          "execution_count": 10
        }
      ]
    },
    {
      "cell_type": "code",
      "source": [
        "# intersection operation done through (&) operator.comon elements are taken out from both the sets.\n",
        "#  syntax: setname1.intersection(setname2)\n",
        "\n",
        "s11.intersection(s22)"
      ],
      "metadata": {
        "id": "9oKcxRhj5BWZ",
        "colab": {
          "base_uri": "https://localhost:8080/"
        },
        "outputId": "1444b3ff-81c1-4bab-be26-31548159a9b8"
      },
      "execution_count": null,
      "outputs": [
        {
          "output_type": "execute_result",
          "data": {
            "text/plain": [
              "{2}"
            ]
          },
          "metadata": {},
          "execution_count": 11
        }
      ]
    },
    {
      "cell_type": "code",
      "source": [
        "# difference operation is used to subtraction between two sets \n",
        "# let two sets are;\n",
        "ss = {2, 3, 4, 5}\n",
        "sss = {2, 3, 55, 77}\n",
        " "
      ],
      "metadata": {
        "id": "VIrJeSBvwRQD"
      },
      "execution_count": null,
      "outputs": []
    },
    {
      "cell_type": "code",
      "source": [
        "ss.difference(sss) # here if the element subtract is present in other set then it will cancel else return value as it is."
      ],
      "metadata": {
        "colab": {
          "base_uri": "https://localhost:8080/"
        },
        "id": "BQpg_Tgvw-Nm",
        "outputId": "2c1ef8d7-ac74-4a6e-bc7e-5e65b6f9f105"
      },
      "execution_count": null,
      "outputs": [
        {
          "output_type": "execute_result",
          "data": {
            "text/plain": [
              "{4, 5}"
            ]
          },
          "metadata": {},
          "execution_count": 13
        }
      ]
    },
    {
      "cell_type": "code",
      "source": [
        "# clear() method or function are used for clear all the elements of from set.\n",
        "# syntax:  setname.clear()\n",
        "s22.clear()"
      ],
      "metadata": {
        "id": "ZYZ2AkCdxDor"
      },
      "execution_count": null,
      "outputs": []
    },
    {
      "cell_type": "code",
      "source": [
        "s22  #accessing the clear set."
      ],
      "metadata": {
        "colab": {
          "base_uri": "https://localhost:8080/"
        },
        "id": "8lIVKCmVxwkW",
        "outputId": "3402416b-a46b-421e-9032-5680d062e617"
      },
      "execution_count": null,
      "outputs": [
        {
          "output_type": "execute_result",
          "data": {
            "text/plain": [
              "set()"
            ]
          },
          "metadata": {},
          "execution_count": 15
        }
      ]
    },
    {
      "cell_type": "code",
      "source": [
        "# pop() function return an random variable from set and removes it from set\n",
        "# syntax: setname.pop()\n",
        "s11.pop()"
      ],
      "metadata": {
        "colab": {
          "base_uri": "https://localhost:8080/"
        },
        "id": "DXfqnBkcxxej",
        "outputId": "da6931c7-589f-4b0a-9b11-8e855da1da2c"
      },
      "execution_count": null,
      "outputs": [
        {
          "output_type": "execute_result",
          "data": {
            "text/plain": [
              "0"
            ]
          },
          "metadata": {},
          "execution_count": 16
        }
      ]
    },
    {
      "cell_type": "code",
      "source": [
        "s11.pop()"
      ],
      "metadata": {
        "colab": {
          "base_uri": "https://localhost:8080/"
        },
        "id": "2tGEZa1syVMa",
        "outputId": "2a6b3bec-9a44-4227-9d99-b9820a8cf28e"
      },
      "execution_count": null,
      "outputs": [
        {
          "output_type": "execute_result",
          "data": {
            "text/plain": [
              "33"
            ]
          },
          "metadata": {},
          "execution_count": 17
        }
      ]
    },
    {
      "cell_type": "code",
      "source": [
        "s11\n"
      ],
      "metadata": {
        "colab": {
          "base_uri": "https://localhost:8080/"
        },
        "id": "UYDjmpQ3ywL_",
        "outputId": "b267a4d7-931b-4558-8a05-1f5b1f672d2f"
      },
      "execution_count": null,
      "outputs": [
        {
          "output_type": "execute_result",
          "data": {
            "text/plain": [
              "{2, 3, 4, 6, 67, 99, 999}"
            ]
          },
          "metadata": {},
          "execution_count": 18
        }
      ]
    },
    {
      "cell_type": "code",
      "source": [
        "# discard() method and function removes an specific element\n",
        "#  syntax: setname.discard(value)\n",
        "s11.discard(67)"
      ],
      "metadata": {
        "id": "FIBFyosQyZjk"
      },
      "execution_count": null,
      "outputs": []
    },
    {
      "cell_type": "code",
      "source": [
        "s11"
      ],
      "metadata": {
        "colab": {
          "base_uri": "https://localhost:8080/"
        },
        "id": "Zz5j8ENHyznc",
        "outputId": "c95af06e-b943-47de-cd13-6788d07b32e1"
      },
      "execution_count": null,
      "outputs": [
        {
          "output_type": "execute_result",
          "data": {
            "text/plain": [
              "{2, 3, 4, 6, 99, 999}"
            ]
          },
          "metadata": {},
          "execution_count": 20
        }
      ]
    },
    {
      "cell_type": "code",
      "source": [
        " # ifdisjoint() methods returns True if two sets don't have any common items it means they are disjoint.\n",
        " # else if their is common elements and it means that it return false\n",
        " #syntax: setname.isdisjoint(setname2)\n",
        " s111 = {2,3}\n",
        " s222 = {2,4,5}\n",
        " s111.isdisjoint(s222)  # return false because element is present  in both sets."
      ],
      "metadata": {
        "colab": {
          "base_uri": "https://localhost:8080/"
        },
        "id": "NXyQ4sShy2H7",
        "outputId": "9cc6b95b-ca35-4003-cc49-69a5a6b3df33"
      },
      "execution_count": null,
      "outputs": [
        {
          "output_type": "execute_result",
          "data": {
            "text/plain": [
              "False"
            ]
          },
          "metadata": {},
          "execution_count": 36
        }
      ]
    },
    {
      "cell_type": "code",
      "source": [
        "# subset function is method returns true if all items in set exists in a specified set and returns false"
      ],
      "metadata": {
        "id": "710QB_Y70PXb"
      },
      "execution_count": null,
      "outputs": []
    },
    {
      "cell_type": "code",
      "source": [
        "s111.issubset(s222)"
      ],
      "metadata": {
        "colab": {
          "base_uri": "https://localhost:8080/"
        },
        "id": "lvWTX4k71CaQ",
        "outputId": "1ab2d243-458c-4cc5-a073-08d8a98ad20f"
      },
      "execution_count": null,
      "outputs": [
        {
          "output_type": "execute_result",
          "data": {
            "text/plain": [
              "False"
            ]
          },
          "metadata": {},
          "execution_count": 38
        }
      ]
    },
    {
      "cell_type": "code",
      "source": [
        "# remove() method will raise an error if specified item is  to remove which is not exist in set."
      ],
      "metadata": {
        "id": "gJWY4nlf1Iby"
      },
      "execution_count": null,
      "outputs": []
    },
    {
      "cell_type": "code",
      "source": [
        "s111.remove(2)  # removes 2 from set."
      ],
      "metadata": {
        "id": "GHCkdg3A1jUX"
      },
      "execution_count": null,
      "outputs": []
    },
    {
      "cell_type": "code",
      "source": [
        "print(s111)"
      ],
      "metadata": {
        "colab": {
          "base_uri": "https://localhost:8080/"
        },
        "id": "4XCxxBCa1qPw",
        "outputId": "7a0b234e-e14d-47dd-f4ad-79a7b87555f9"
      },
      "execution_count": null,
      "outputs": [
        {
          "output_type": "stream",
          "name": "stdout",
          "text": [
            "{3}\n"
          ]
        }
      ]
    },
    {
      "cell_type": "code",
      "source": [
        "# The issuperset() method returns True if all items in the specified set exists in the original set, otherwise it retuns False.\n",
        "\n",
        "s11.issuperset(s22)"
      ],
      "metadata": {
        "colab": {
          "base_uri": "https://localhost:8080/"
        },
        "id": "8_3-D17911sH",
        "outputId": "24656dc0-ccd4-485a-c1d1-c1e989f15c3e"
      },
      "execution_count": null,
      "outputs": [
        {
          "output_type": "execute_result",
          "data": {
            "text/plain": [
              "True"
            ]
          },
          "metadata": {},
          "execution_count": 43
        }
      ]
    },
    {
      "cell_type": "code",
      "source": [
        "s111"
      ],
      "metadata": {
        "colab": {
          "base_uri": "https://localhost:8080/"
        },
        "id": "grTUMW0-2VR2",
        "outputId": "6a311142-a194-4bd5-f08e-ba803fc9bb2c"
      },
      "execution_count": null,
      "outputs": [
        {
          "output_type": "execute_result",
          "data": {
            "text/plain": [
              "{3}"
            ]
          },
          "metadata": {},
          "execution_count": 46
        }
      ]
    },
    {
      "cell_type": "code",
      "source": [
        "s222"
      ],
      "metadata": {
        "colab": {
          "base_uri": "https://localhost:8080/"
        },
        "id": "A3rrt1Vq26TD",
        "outputId": "4afaba9c-7aed-4ee0-d75c-69eb5677e178"
      },
      "execution_count": null,
      "outputs": [
        {
          "output_type": "execute_result",
          "data": {
            "text/plain": [
              "{2, 4, 5}"
            ]
          },
          "metadata": {},
          "execution_count": 47
        }
      ]
    },
    {
      "cell_type": "code",
      "source": [
        "s111.issuperset(s222)"
      ],
      "metadata": {
        "colab": {
          "base_uri": "https://localhost:8080/"
        },
        "id": "RaFzrKcb27Rd",
        "outputId": "371b2975-09d4-41f6-aca9-1e802a0c16e5"
      },
      "execution_count": null,
      "outputs": [
        {
          "output_type": "execute_result",
          "data": {
            "text/plain": [
              "False"
            ]
          },
          "metadata": {},
          "execution_count": 48
        }
      ]
    },
    {
      "cell_type": "markdown",
      "source": [
        "# CONTROL FLOW OF PYTHON  --->"
      ],
      "metadata": {
        "id": "WhlZR-mnVzIF"
      }
    },
    {
      "cell_type": "markdown",
      "source": [
        "**DECESION MAKING STATEMENTS** -->"
      ],
      "metadata": {
        "id": "a9UwjSgDV-Hg"
      }
    },
    {
      "cell_type": "markdown",
      "source": [
        "*There comes situations in real life when we need to make some decisions and based on these decisions, we decide what should we do next. Similar situations arise in programming also where we need to make some decisions and based on these decisions we will execute the next block of code. Decision-making statements in programming languages decide the direction of the flow of program execution. "
      ],
      "metadata": {
        "id": "2cnCWUk1WJbY"
      }
    },
    {
      "cell_type": "markdown",
      "source": [
        "**if statement :\n",
        "if statement is the most simple decision-making statement. It is used to decide whether a certain statement or block of statements will be executed or not i.e if a certain condition is true then a block of statement is executed otherwise not."
      ],
      "metadata": {
        "id": "VgGpuB3lWoCv"
      }
    },
    {
      "cell_type": "code",
      "source": [
        "# python program to illustrate If statement\n",
        "  \n",
        "i = 10\n",
        "  \n",
        "if (i > 15):\n",
        "    print(\"10 is less than 15\") # here, this part is false this block of code cam't run it goes to next one.\n",
        "print(\"I am Not in if\")   # coz of the above statement is false this this will execute."
      ],
      "metadata": {
        "colab": {
          "base_uri": "https://localhost:8080/"
        },
        "id": "C75lZJCUYCUY",
        "outputId": "6492977a-efb8-48b3-c281-6329dd56361e"
      },
      "execution_count": null,
      "outputs": [
        {
          "output_type": "stream",
          "name": "stdout",
          "text": [
            "I am Not in if\n"
          ]
        }
      ]
    },
    {
      "cell_type": "markdown",
      "source": [
        "**if-else:\n",
        "The if statement alone tells us that if a condition is true it will execute a block of statements and if the condition is false it won’t. But what if we want to do something else if the condition is false. Here comes the else statement. We can use the else statement with if statement to execute a block of code when the condition is false. "
      ],
      "metadata": {
        "id": "vkcubeVIcZwE"
      }
    },
    {
      "cell_type": "code",
      "source": [
        "# python program to illustrate If else statement.\n",
        "  \n",
        "i = 20\n",
        "if (i < 15):\n",
        "    print(\"i is smaller than 15\")\n",
        "    print(\"i'm in if Block\")  # this statement will execute and check first. this condition is false. then it check the else block \n",
        "else:\n",
        "    print(\"i is greater than 15\")   # this statement will check and this is run if condition is true.\n",
        "    print(\"i'm in else Block\")\n",
        "print(\"i'm not in if and not in else Block\")  # this will execute when if and else both are false."
      ],
      "metadata": {
        "id": "GZhuVIqmcfey",
        "colab": {
          "base_uri": "https://localhost:8080/"
        },
        "outputId": "1dd26682-4b0e-46ef-cec2-d60370bb2dc2"
      },
      "execution_count": null,
      "outputs": [
        {
          "output_type": "stream",
          "name": "stdout",
          "text": [
            "i is greater than 15\n",
            "i'm in else Block\n",
            "i'm not in if and not in else Block\n"
          ]
        }
      ]
    },
    {
      "cell_type": "code",
      "source": [
        "# python program to illustrate nested If statement\n",
        "#Nested if statements mean an if statement inside another if statement. \n",
        "i = 10\n",
        "if (i == 10):  # check firstly this condition if this is true then it will enter into the if block.\n",
        "    \n",
        "    #  First if statement\n",
        "    if (i < 15):      # if the above condition is true then check this, if this is true then execute this\n",
        "        print(\"i is smaller than 15\")\n",
        "          \n",
        "    # Nested - if statement\n",
        "    # Will only be executed if statement above\n",
        "    # it is true\n",
        "    if (i < 12):\n",
        "        print(\"i is smaller than 12 too\")  # this will be checked if first if statement is true.  execute this if condition is true\n",
        "    else:\n",
        "        print(\"i is greater than 15\")  # if above one is false then execute this.\n",
        "    "
      ],
      "metadata": {
        "id": "Xirt3oeAdOim",
        "colab": {
          "base_uri": "https://localhost:8080/"
        },
        "outputId": "fddc7be2-6d92-4e58-c381-76e152d56b92"
      },
      "execution_count": null,
      "outputs": [
        {
          "output_type": "stream",
          "name": "stdout",
          "text": [
            "i is smaller than 15\n",
            "i is smaller than 12 too\n"
          ]
        }
      ]
    },
    {
      "cell_type": "markdown",
      "source": [
        "**if-elif-else ladder:\n",
        "Here, a user can decide among multiple options. The if statements are executed from the top down. As soon as one of the conditions controlling the if is true, the statement associated with that if is executed, and the rest of the ladder is bypassed. If none of the conditions is true, then the final else statement will be executed."
      ],
      "metadata": {
        "id": "DqicC9S_liDh"
      }
    },
    {
      "cell_type": "code",
      "source": [
        "# Python program to illustrate if-elif-else ladder\n",
        "i = 20\n",
        "if (i == 10):  # check firstly this if condition. if this is true then execute else go to next\n",
        "    print(\"i is 10\")\n",
        "elif (i == 15):    # check this if above is false if this is true execute else go to next\n",
        "    print(\"i is 15\")\n",
        "elif (i == 20):   # check this condition if above is false if this is true then run otherwise next\n",
        "    print(\"i is 20\")\n",
        "else:\n",
        "    print(\"i is not present\")  # this else will execute if the all if and elif will executed."
      ],
      "metadata": {
        "id": "ea_Bspyljeok",
        "colab": {
          "base_uri": "https://localhost:8080/"
        },
        "outputId": "fd379fab-032d-41db-bf2f-1afd5295518d"
      },
      "execution_count": null,
      "outputs": [
        {
          "output_type": "stream",
          "name": "stdout",
          "text": [
            "i is 20\n"
          ]
        }
      ]
    },
    {
      "cell_type": "markdown",
      "source": [
        "##Python For loop is used for sequential traversal i.e. it is used for iterating over an iterable like String, Tuple, List, Set or Dictionary.\n",
        "\n",
        "In Python, there is no C style for loop, i.e., for (i=0; i<n; i++). There is “for” loop which is similar to each loop in other languages"
      ],
      "metadata": {
        "id": "RN6GhdJirQWm"
      }
    },
    {
      "cell_type": "code",
      "source": [
        "# for loop\n",
        "l = [\"geeks\", \"for\", \"geeks\"]\n",
        "for i in l:\n",
        "    print(i)"
      ],
      "metadata": {
        "id": "yr9h71v_mxYV",
        "colab": {
          "base_uri": "https://localhost:8080/"
        },
        "outputId": "0449336a-a169-4af6-cf16-2cfd1079cfe5"
      },
      "execution_count": null,
      "outputs": [
        {
          "output_type": "stream",
          "name": "stdout",
          "text": [
            "geeks\n",
            "for\n",
            "geeks\n"
          ]
        }
      ]
    },
    {
      "cell_type": "code",
      "source": [
        "# for-else loop\n",
        " \n",
        "for i in range(1, 4):\n",
        "    print(i)\n",
        "else:  # Executed because no break in for\n",
        "    print(\"No Break\\n\")"
      ],
      "metadata": {
        "colab": {
          "base_uri": "https://localhost:8080/"
        },
        "id": "t4NerbwTrhDb",
        "outputId": "2bb2f3ad-96a4-4a7d-8101-2880507e88ea"
      },
      "execution_count": null,
      "outputs": [
        {
          "output_type": "stream",
          "name": "stdout",
          "text": [
            "1\n",
            "2\n",
            "3\n",
            "No Break\n",
            "\n"
          ]
        }
      ]
    },
    {
      "cell_type": "markdown",
      "source": [
        "## while loop:\n",
        "Python While Loop is used to execute a block of statements repeatedly until a given condition is satisfied. And when the condition becomes false, the line immediately after the loop in the program is executed."
      ],
      "metadata": {
        "id": "tvkSITh3t5Pd"
      }
    },
    {
      "cell_type": "code",
      "source": [
        "# Python program to illustrate\n",
        "# while loop\n",
        "count = 0\n",
        "while (count < 3):   # here check the value of count first and compare it with while condition if condition is true it execute.\n",
        "    count = count + 1 # when it execute first time then increment in count value then again while condition is check.\n",
        "\n",
        "    # this will continue unless the while condition is false\n",
        "    print(\"Hello Geek\")   # when while condition is false ! exit of loop occur."
      ],
      "metadata": {
        "colab": {
          "base_uri": "https://localhost:8080/"
        },
        "id": "aKbhvePJrofF",
        "outputId": "2d16eead-9871-450c-90b4-7977ac2885ef"
      },
      "execution_count": null,
      "outputs": [
        {
          "output_type": "stream",
          "name": "stdout",
          "text": [
            "Hello Geek\n",
            "Hello Geek\n",
            "Hello Geek\n"
          ]
        }
      ]
    },
    {
      "cell_type": "code",
      "source": [
        "a = [1, 2, 3, 4]   # while loop\n",
        "  \n",
        "while a:\n",
        "    print(a.pop())  # poping will done unless all element from a will popped. after popping all elements while condition will false. then loop end."
      ],
      "metadata": {
        "colab": {
          "base_uri": "https://localhost:8080/"
        },
        "id": "z8w-1yjaui4T",
        "outputId": "cd6c750c-b46e-4deb-c01c-ea917fc19d85"
      },
      "execution_count": null,
      "outputs": [
        {
          "output_type": "stream",
          "name": "stdout",
          "text": [
            "4\n",
            "3\n",
            "2\n",
            "1\n"
          ]
        }
      ]
    },
    {
      "cell_type": "code",
      "source": [
        "# Single statement while block --->\n",
        "count = 0\n",
        "while (count < 5): count += 1; print(\"Hello coders\")   # here print hello coders unless the value of the count is 5."
      ],
      "metadata": {
        "colab": {
          "base_uri": "https://localhost:8080/"
        },
        "id": "7Xcv0QXPvDU0",
        "outputId": "f3891dc9-07a6-4022-a7e3-5f50362efc0d"
      },
      "execution_count": null,
      "outputs": [
        {
          "output_type": "stream",
          "name": "stdout",
          "text": [
            "Hello coders\n",
            "Hello coders\n",
            "Hello coders\n",
            "Hello coders\n",
            "Hello coders\n"
          ]
        }
      ]
    },
    {
      "cell_type": "code",
      "source": [
        "i = 0    # while with if condition and a continue loop done -->\n",
        "a = 'codersreadystudents'\n",
        "  \n",
        "while i < len(a):\n",
        "    if a[i] == 'e' or a[i] == 's':\n",
        "        i += 1\n",
        "        continue   # this will indicate that loop is continue.\n",
        "          \n",
        "    print('Current Letter :', a[i])\n",
        "    i += 1 "
      ],
      "metadata": {
        "colab": {
          "base_uri": "https://localhost:8080/"
        },
        "id": "ulsKHWr1vO2K",
        "outputId": "81debf2a-01f3-42d2-fde7-e0b70595883d"
      },
      "execution_count": null,
      "outputs": [
        {
          "output_type": "stream",
          "name": "stdout",
          "text": [
            "Current Letter : c\n",
            "Current Letter : o\n",
            "Current Letter : d\n",
            "Current Letter : r\n",
            "Current Letter : r\n",
            "Current Letter : a\n",
            "Current Letter : d\n",
            "Current Letter : y\n",
            "Current Letter : t\n",
            "Current Letter : u\n",
            "Current Letter : d\n",
            "Current Letter : n\n",
            "Current Letter : t\n"
          ]
        }
      ]
    },
    {
      "cell_type": "code",
      "source": [
        "# break the loop as soon it sees 'e'\n",
        "# or 's' in the letter. This break will help us to exit our loop after at a certain condition where we want to exit loop.\n",
        "i = 0\n",
        "a = 'codersreadystudents'\n",
        "  \n",
        "while i < len(a):\n",
        "    if a[i] == 'e' or a[i] == 's':\n",
        "        i += 1\n",
        "        break    # here whenever the letter 'e' and 's' occur loop break else increment in i occur\n",
        "          \n",
        "    print('Current Letter :', a[i])\n",
        "    i += 1"
      ],
      "metadata": {
        "colab": {
          "base_uri": "https://localhost:8080/"
        },
        "id": "VmRDNt5xwOzL",
        "outputId": "2e0c90b2-f519-46d5-f4df-1036cec94560"
      },
      "execution_count": null,
      "outputs": [
        {
          "output_type": "stream",
          "name": "stdout",
          "text": [
            "Current Letter : c\n",
            "Current Letter : o\n",
            "Current Letter : d\n"
          ]
        }
      ]
    },
    {
      "cell_type": "markdown",
      "source": [
        "## PYTHON FUNCTION :"
      ],
      "metadata": {
        "id": "lzVnKst7bs4V"
      }
    },
    {
      "cell_type": "markdown",
      "source": [
        "Python Functions is a block of statements that return the specific task.\n",
        "\n",
        "The idea is to put some commonly or repeatedly done tasks together and make a function so that instead of \n",
        "writing the same code again and again for different inputs, we can do the function calls to reuse code\n",
        " contained in it over and over again. \n",
        "\n",
        " PYTHON FUNCTION SYNTAX -->   def function_name(parameters)"
      ],
      "metadata": {
        "id": "ORMsjMhRcV_K"
      }
    },
    {
      "cell_type": "code",
      "source": [
        "# program of having function-->\n",
        "\n",
        "def greed(name):   # function greed is made with the parameter name.\n",
        "  print(\"GOOD DAY \"+ name)\n",
        " "
      ],
      "metadata": {
        "id": "c9nx1PzycRLT"
      },
      "execution_count": null,
      "outputs": []
    },
    {
      "cell_type": "code",
      "source": [
        "greed(\"NISHANT\")  # calling the function with its parameter value assigned heree i:e is NISHANT."
      ],
      "metadata": {
        "colab": {
          "base_uri": "https://localhost:8080/"
        },
        "id": "0xIcIgbfcuW-",
        "outputId": "45c4add4-ea4c-4ac4-d32d-23df4038f467"
      },
      "execution_count": null,
      "outputs": [
        {
          "output_type": "stream",
          "name": "stdout",
          "text": [
            "GOOD DAY NISHANT\n"
          ]
        }
      ]
    },
    {
      "cell_type": "code",
      "source": [],
      "metadata": {
        "id": "wpqJ8sXMcyNC"
      },
      "execution_count": null,
      "outputs": []
    },
    {
      "cell_type": "code",
      "source": [
        "def add(num1: int, num2: int) ->  int:\n",
        "    num3 = num1 + num2\n",
        "\n",
        "    return num3\n",
        "\n",
        "num1, num2 = 5, 15\n",
        "ans = add(num1, num2)\n",
        "print(f\"the addition of {num1} and {num2} is results in {ans}\")"
      ],
      "metadata": {
        "colab": {
          "base_uri": "https://localhost:8080/"
        },
        "id": "vpmeXmGee70l",
        "outputId": "389584be-1bf4-4995-a506-0c923fc9f15b"
      },
      "execution_count": null,
      "outputs": [
        {
          "output_type": "stream",
          "name": "stdout",
          "text": [
            "the addition of 5 and 15 is results in 20\n"
          ]
        }
      ]
    },
    {
      "cell_type": "code",
      "source": [
        "def evenOdd(x):\n",
        "    if (x % 2 == 0):\n",
        "        print(\"even\")\n",
        "    else:\n",
        "        print(\"odd\")\n",
        " \n",
        " \n",
        "# Driver code to call the function\n",
        "evenOdd(2)\n",
        "evenOdd(3)"
      ],
      "metadata": {
        "colab": {
          "base_uri": "https://localhost:8080/"
        },
        "id": "era56TWcglPM",
        "outputId": "c868e9b0-76d6-4eeb-f492-f3396566a99f"
      },
      "execution_count": null,
      "outputs": [
        {
          "output_type": "stream",
          "name": "stdout",
          "text": [
            "even\n",
            "odd\n"
          ]
        }
      ]
    },
    {
      "cell_type": "code",
      "source": [
        "def myself(name):\n",
        "  print(\"MY SELF ! \"+ name)\n",
        "  "
      ],
      "metadata": {
        "id": "ldnZ71NohbeO"
      },
      "execution_count": null,
      "outputs": []
    },
    {
      "cell_type": "code",
      "source": [
        "myself(\"NISHANT\")"
      ],
      "metadata": {
        "colab": {
          "base_uri": "https://localhost:8080/"
        },
        "id": "zDK-wmnGhwLD",
        "outputId": "bb025524-f661-4e6a-bdc0-3d3216d72c6a"
      },
      "execution_count": null,
      "outputs": [
        {
          "output_type": "stream",
          "name": "stdout",
          "text": [
            "MY SELF ! NISHANT\n"
          ]
        }
      ]
    },
    {
      "cell_type": "code",
      "source": [
        "def my_func(name, msg):\n",
        "  print(\"hello ! \" + name + msg)"
      ],
      "metadata": {
        "id": "he1WPRiGh2D_"
      },
      "execution_count": null,
      "outputs": []
    },
    {
      "cell_type": "code",
      "source": [
        "my_func(msg= \"how r you \", name=\"Nishant \")  #keywords arguement"
      ],
      "metadata": {
        "colab": {
          "base_uri": "https://localhost:8080/"
        },
        "id": "0E5YRynVk2iV",
        "outputId": "eb42fc4f-8f78-4be2-9dbc-c0884deeca9f"
      },
      "execution_count": null,
      "outputs": [
        {
          "output_type": "stream",
          "name": "stdout",
          "text": [
            "hello ! Nishant how r you \n"
          ]
        }
      ]
    },
    {
      "cell_type": "markdown",
      "source": [
        "arbitrary positional arguement"
      ],
      "metadata": {
        "id": "ra-engCZySHG"
      }
    },
    {
      "cell_type": "code",
      "source": [
        "def add(*g):  # it is an arbitrary positional arguement.# single sign (*) for one value and seperate values.\n",
        "  \n",
        "    result = 0\n",
        "    for i in g:\n",
        "        result += i\n",
        "    return result\n"
      ],
      "metadata": {
        "id": "VHeVpS7Bk_aK"
      },
      "execution_count": null,
      "outputs": []
    },
    {
      "cell_type": "code",
      "source": [
        "add(1, 2, 3)"
      ],
      "metadata": {
        "colab": {
          "base_uri": "https://localhost:8080/"
        },
        "id": "lN7kzHI8pCCu",
        "outputId": "a4996224-ff34-4af7-ba74-abb52f248d85"
      },
      "execution_count": null,
      "outputs": [
        {
          "output_type": "execute_result",
          "data": {
            "text/plain": [
              "6"
            ]
          },
          "metadata": {},
          "execution_count": 75
        }
      ]
    },
    {
      "cell_type": "code",
      "source": [
        "add(20, 20, 20, 20 )"
      ],
      "metadata": {
        "colab": {
          "base_uri": "https://localhost:8080/"
        },
        "id": "_wdwa52qpETc",
        "outputId": "055c2bd2-49a5-4a51-d66a-c6f119efe6c1"
      },
      "execution_count": null,
      "outputs": [
        {
          "output_type": "execute_result",
          "data": {
            "text/plain": [
              "80"
            ]
          },
          "metadata": {},
          "execution_count": 76
        }
      ]
    },
    {
      "cell_type": "code",
      "source": [
        "add(1000, 1000, 10000, 10000)"
      ],
      "metadata": {
        "colab": {
          "base_uri": "https://localhost:8080/"
        },
        "id": "vNoWPM_Fp-mX",
        "outputId": "ad222582-eb73-4ac3-c452-a7242480c8ff"
      },
      "execution_count": null,
      "outputs": [
        {
          "output_type": "execute_result",
          "data": {
            "text/plain": [
              "22000"
            ]
          },
          "metadata": {},
          "execution_count": 77
        }
      ]
    },
    {
      "cell_type": "code",
      "source": [
        "add(20, 20)"
      ],
      "metadata": {
        "colab": {
          "base_uri": "https://localhost:8080/"
        },
        "id": "8kHBDOMeqFIo",
        "outputId": "c4dcf4e5-86b2-4614-e71d-d3a947a47c06"
      },
      "execution_count": null,
      "outputs": [
        {
          "output_type": "execute_result",
          "data": {
            "text/plain": [
              "40"
            ]
          },
          "metadata": {},
          "execution_count": 78
        }
      ]
    },
    {
      "cell_type": "markdown",
      "source": [
        "arbitrary keyword arguement."
      ],
      "metadata": {
        "id": "PqefK-BFvDWf"
      }
    },
    {
      "cell_type": "code",
      "source": [
        "def f6(**h):\n",
        "    for i in h.items():\n",
        "        print(i)"
      ],
      "metadata": {
        "id": "T-s0yaOeqQNx"
      },
      "execution_count": null,
      "outputs": []
    },
    {
      "cell_type": "code",
      "source": [
        "f6(num = 6,color = \"blue\", fruit = \"litchi\")"
      ],
      "metadata": {
        "colab": {
          "base_uri": "https://localhost:8080/"
        },
        "id": "1slbZVhXsJ4I",
        "outputId": "ee604e44-2c97-4fac-d405-0d051b98f4cd"
      },
      "execution_count": null,
      "outputs": [
        {
          "output_type": "stream",
          "name": "stdout",
          "text": [
            "('num', 6)\n",
            "('color', 'blue')\n",
            "('fruit', 'litchi')\n"
          ]
        }
      ]
    },
    {
      "cell_type": "code",
      "source": [
        "def f7(**g):   # double multiply sigh for keys and value.\n",
        "    for i in g.items():\n",
        "      print(i)\n",
        "    "
      ],
      "metadata": {
        "id": "ewPXKqpvsNBz"
      },
      "execution_count": null,
      "outputs": []
    },
    {
      "cell_type": "code",
      "source": [
        "f7(num= 6, name=\"nishant\", color= \"blue\")"
      ],
      "metadata": {
        "colab": {
          "base_uri": "https://localhost:8080/"
        },
        "id": "PSWa23jGsXj2",
        "outputId": "28b98b8b-7c6d-47e5-cb3d-8c3c0074b827"
      },
      "execution_count": null,
      "outputs": [
        {
          "output_type": "stream",
          "name": "stdout",
          "text": [
            "('num', 6)\n",
            "('name', 'nishant')\n",
            "('color', 'blue')\n"
          ]
        }
      ]
    },
    {
      "cell_type": "markdown",
      "source": [
        "## RECURSSIVE FUNCTION"
      ],
      "metadata": {
        "id": "6cfi51R90sFR"
      }
    },
    {
      "cell_type": "markdown",
      "source": [
        "which calls itself e:g is factorial of any number."
      ],
      "metadata": {
        "id": "7dQ2IyHO0wNV"
      }
    },
    {
      "cell_type": "code",
      "source": [
        "def recur_fact(x):\n",
        "    if x == 1:\n",
        "        return 1\n",
        "    else:\n",
        "        return(x*recur_fact(x-1))    # factorial run here unless it is equal to 1"
      ],
      "metadata": {
        "id": "-ZmLa8mYszId"
      },
      "execution_count": null,
      "outputs": []
    },
    {
      "cell_type": "code",
      "source": [
        "recur_fact(8)"
      ],
      "metadata": {
        "colab": {
          "base_uri": "https://localhost:8080/"
        },
        "id": "85kIkLmA03nC",
        "outputId": "51faadfc-9802-4c69-ae53-a5b4b76f418d"
      },
      "execution_count": null,
      "outputs": [
        {
          "output_type": "execute_result",
          "data": {
            "text/plain": [
              "40320"
            ]
          },
          "metadata": {},
          "execution_count": 84
        }
      ]
    },
    {
      "cell_type": "code",
      "source": [
        "num = int(input(\"enter the number: \"))\n",
        "if num>=1:\n",
        "  print(\"the factorial of \", num,\"is \",recur_fact(num))"
      ],
      "metadata": {
        "colab": {
          "base_uri": "https://localhost:8080/"
        },
        "id": "TQikPWaa06o3",
        "outputId": "58f010da-24ff-4f23-9f11-b7dfec217183"
      },
      "execution_count": null,
      "outputs": [
        {
          "output_type": "stream",
          "name": "stdout",
          "text": [
            "enter the number: 3\n",
            "the factorial of  3 is  6\n"
          ]
        }
      ]
    },
    {
      "cell_type": "markdown",
      "source": [
        "# lambda function\n",
        "\n",
        "A lambda function is a small anonymous function.\n",
        "\n",
        "A lambda function can take any number of arguments, but can only have one expression.\n",
        "syntax::\n",
        "lambda arguments: expression    "
      ],
      "metadata": {
        "id": "7CdylHj05Biq"
      }
    },
    {
      "cell_type": "code",
      "source": [
        "x = lambda a : a + 10\n",
        "print(x(5))\n"
      ],
      "metadata": {
        "colab": {
          "base_uri": "https://localhost:8080/"
        },
        "id": "qkHmzaL-1mQB",
        "outputId": "8029598b-4bf5-439a-f1b1-dc389a335527"
      },
      "execution_count": null,
      "outputs": [
        {
          "output_type": "stream",
          "name": "stdout",
          "text": [
            "15\n"
          ]
        }
      ]
    },
    {
      "cell_type": "code",
      "source": [
        "y = lambda a, b, c : a + b + c\n",
        "print(y(20, 20, 20))"
      ],
      "metadata": {
        "colab": {
          "base_uri": "https://localhost:8080/"
        },
        "id": "6kNEckPu5MBs",
        "outputId": "0e32db0d-af74-44fe-ffbb-2bb9d05dde12"
      },
      "execution_count": null,
      "outputs": [
        {
          "output_type": "stream",
          "name": "stdout",
          "text": [
            "60\n"
          ]
        }
      ]
    },
    {
      "cell_type": "code",
      "source": [
        "z = lambda a : 1000 + a\n",
        "print(z(1000))"
      ],
      "metadata": {
        "colab": {
          "base_uri": "https://localhost:8080/"
        },
        "id": "NfZD1Km45uHl",
        "outputId": "ba696f57-0cb3-4387-b63e-b464b8ccd2aa"
      },
      "execution_count": null,
      "outputs": [
        {
          "output_type": "stream",
          "name": "stdout",
          "text": [
            "2000\n"
          ]
        }
      ]
    },
    {
      "cell_type": "markdown",
      "source": [
        "The power of lambda is better shown when you use them as an anonymous function inside another function.\n",
        "\n",
        "Say you have a function definition that takes one argument, and that argument will be multiplied with an unknown number:"
      ],
      "metadata": {
        "id": "rO4bQD_Q86uI"
      }
    },
    {
      "cell_type": "code",
      "source": [
        "def myfunc(n):  # arguement of an function\n",
        "  return lambda a : a * n  # lambda function.\n",
        "\n",
        "mydoubler = myfunc(2)\n",
        "mytripler = myfunc(3)\n",
        "\n",
        "print(mydoubler(11))\n",
        "print(mytripler(11))"
      ],
      "metadata": {
        "colab": {
          "base_uri": "https://localhost:8080/"
        },
        "id": "cxeiUi8u6GIW",
        "outputId": "e6153211-e670-4f38-950f-c4249748d6b2"
      },
      "execution_count": null,
      "outputs": [
        {
          "output_type": "stream",
          "name": "stdout",
          "text": [
            "22\n",
            "33\n"
          ]
        }
      ]
    },
    {
      "cell_type": "markdown",
      "source": [
        "# using lambda function with filter() and map()"
      ],
      "metadata": {
        "id": "7jhkM0GM_582"
      }
    },
    {
      "cell_type": "markdown",
      "source": [
        "The filter() method accepts two arguments in Python: a function and an iterable such as a list.\n",
        "\n",
        "The function is called for every item of the list, and a new iterable or list is returned that holds just those elements that returned True when supplied to the function.\n",
        "\n",
        "Here's a simple illustration of using the filter() method to return only odd numbers from a list."
      ],
      "metadata": {
        "id": "F-pPv3z0_qFd"
      }
    },
    {
      "cell_type": "code",
      "source": [
        "listt = [1,2,3,4,5,6,7,8,9,10,11,12,13,14,15,16,17,18,19,20]\n",
        "\n",
        "ev = list(filter(lambda x: (x%2 == 0),listt))   # it returns the even numbers in list\n",
        "print(ev)\n"
      ],
      "metadata": {
        "colab": {
          "base_uri": "https://localhost:8080/"
        },
        "id": "2Qlm_NBt9PHU",
        "outputId": "787e20c2-c654-4f8d-c9ec-2f996246896a"
      },
      "execution_count": null,
      "outputs": [
        {
          "output_type": "stream",
          "name": "stdout",
          "text": [
            "[2, 4, 6, 8, 10, 12, 14, 16, 18, 20]\n"
          ]
        }
      ]
    },
    {
      "cell_type": "markdown",
      "source": [
        "** A method and a list are passed to Python's map() function.\n",
        "\n",
        "The function is executed for all of the elements within the list, and a new list is produced with elements generated by the given function for every item.\n",
        "\n",
        "The map() method is used to square all the entries in a list in this example."
      ],
      "metadata": {
        "id": "CS-gx2kvAv_r"
      }
    },
    {
      "cell_type": "code",
      "source": [
        "\n",
        "db = list(map( lambda num: (num ** 2) , listt))  # square of all elements in the list.   first example.\n",
        "print(db)"
      ],
      "metadata": {
        "colab": {
          "base_uri": "https://localhost:8080/"
        },
        "id": "gM4hQyv2_zv5",
        "outputId": "692a1fbd-f518-4f13-e47b-0115f1f6e95e"
      },
      "execution_count": null,
      "outputs": [
        {
          "output_type": "stream",
          "name": "stdout",
          "text": [
            "[1, 4, 9, 16, 25, 36, 49, 64, 81, 100, 121, 144, 169, 196, 225, 256, 289, 324, 361, 400]\n"
          ]
        }
      ]
    },
    {
      "cell_type": "code",
      "source": [
        "numbers_list = [2, 4, 5, 1, 3, 7, 8, 9, 10]  # example two\n",
        "  \n",
        "squared_list = list(map( lambda num: num ** 2 , numbers_list ))  \n",
        "  \n",
        "print( squared_list )  "
      ],
      "metadata": {
        "id": "-HXawXVvA8b_",
        "colab": {
          "base_uri": "https://localhost:8080/"
        },
        "outputId": "454d17c9-08e5-45bc-b0ce-d8aea7a3e0be"
      },
      "execution_count": null,
      "outputs": [
        {
          "output_type": "stream",
          "name": "stdout",
          "text": [
            "[4, 16, 25, 1, 9, 49, 64, 81, 100]\n"
          ]
        }
      ]
    },
    {
      "cell_type": "markdown",
      "source": [
        "# PYTHON AS AN OOPS -->\n",
        "\n",
        "In Python, object-oriented Programming (OOPs) is a programming paradigm that uses objects and classes in programming. It aims to implement real-world entities like inheritance, polymorphisms, encapsulation, etc. in the programming. The main concept of OOPs is to bind the data and the functions that work on that together as a single unit so that no other part of the code can access this data.\n"
      ],
      "metadata": {
        "id": "BaJ3pxk5z3hI"
      }
    },
    {
      "cell_type": "code",
      "source": [
        "class car:  \n",
        "    def __init__(self,modelname, year):  \n",
        "        self.modelname = modelname  \n",
        "        self.year = year  \n",
        "    def display(self):  \n",
        "        print(self.modelname,self.year)  \n",
        "  \n",
        "c1 = car(\"Toyota\", 2016)  \n",
        "c1.display()  "
      ],
      "metadata": {
        "colab": {
          "base_uri": "https://localhost:8080/"
        },
        "id": "9AbdwNGN1ejx",
        "outputId": "b8e1db02-e091-4f5b-8ef7-d223cb23218a"
      },
      "execution_count": null,
      "outputs": [
        {
          "output_type": "stream",
          "name": "stdout",
          "text": [
            "Toyota 2016\n"
          ]
        }
      ]
    },
    {
      "cell_type": "code",
      "source": [
        "class car:  \n",
        "    def __init__(self,modelname, year):  \n",
        "        self.modelname = modelname  \n",
        "        self.year = year  \n",
        "    def display(self):  \n",
        "        print(\"the model name of the car is \" +self.modelname, +self.year)  \n",
        "  \n",
        "c1 = car(\"Toyota\", 2016)  \n",
        "c1.display()  "
      ],
      "metadata": {
        "colab": {
          "base_uri": "https://localhost:8080/"
        },
        "id": "Hbv_NMe92ZqB",
        "outputId": "821a9016-c498-4be9-e43c-5afc1f34c12e"
      },
      "execution_count": null,
      "outputs": [
        {
          "output_type": "stream",
          "name": "stdout",
          "text": [
            "the model name of the car is Toyota 2016\n"
          ]
        }
      ]
    },
    {
      "cell_type": "code",
      "source": [
        "class car:\n",
        "    def __init__(self,modelname, year):\n",
        "        self.modelname = modelname\n",
        "        self.year = 2022\n",
        "    def display(self):\n",
        "        print(\"the model name of the car is \" , self.modelname, self.year)  \n",
        "c11 = car(\"BMW\", \"2022\")\n",
        "c11.display()"
      ],
      "metadata": {
        "colab": {
          "base_uri": "https://localhost:8080/"
        },
        "id": "QHmQk4wE6cm4",
        "outputId": "ebfde903-0e48-4d8c-eb1e-1b7cd7f54e65"
      },
      "execution_count": null,
      "outputs": [
        {
          "output_type": "stream",
          "name": "stdout",
          "text": [
            "the model name of the car is  BMW 2022\n"
          ]
        }
      ]
    },
    {
      "cell_type": "code",
      "source": [
        "class trainee:\n",
        "    def __init__(self):   # default constructor.\n",
        "        self.student = \"coder22\"\n",
        "    def print_student(self):\n",
        "        print(self.student)\n",
        "\n",
        "obk = trainee()\n",
        "obk.print_student()        "
      ],
      "metadata": {
        "colab": {
          "base_uri": "https://localhost:8080/"
        },
        "id": "AY9AQGuR9Psy",
        "outputId": "11f40535-3e1a-4354-fb10-43e5403f3a00"
      },
      "execution_count": null,
      "outputs": [
        {
          "output_type": "stream",
          "name": "stdout",
          "text": [
            "coder22\n"
          ]
        }
      ]
    },
    {
      "cell_type": "code",
      "source": [
        "class Person(object):\n",
        " \n",
        "    # __init__ is known as the constructor\n",
        "    def __init__(self, name, idnumber):\n",
        "        self.name = name\n",
        "        self.idnumber = idnumber\n",
        " \n",
        "    def display(self):\n",
        "        print(self.name)\n",
        "        print(self.idnumber)\n",
        "         \n",
        "    def details(self):\n",
        "        print(\"My name is {}\".format(self.name))\n",
        "        print(\"IdNumber: {}\".format(self.idnumber))\n",
        "     \n",
        "# child class\n",
        "class Employee(Person):\n",
        "    def __init__(self, name, idnumber, salary, post):\n",
        "        self.salary = salary\n",
        "        self.post = post\n",
        " \n",
        "        # invoking the __init__ of the parent class\n",
        "        Person.__init__(self, name, idnumber)\n",
        "         \n",
        "    def details(self):\n",
        "        print(\"My name is {}\".format(self.name))\n",
        "        print(\"IdNumber: {}\".format(self.idnumber))\n",
        "        print(\"Post: {}\".format(self.post))\n",
        " \n",
        "\n",
        "\n",
        "# creation of an object variable or an instance\n",
        "a = Employee('Rahul', 886012, 200000, \"Intern\")\n",
        " \n",
        "# calling a function of the class Person using\n",
        "# its instance\n",
        "a.display()\n",
        "a.details()\n"
      ],
      "metadata": {
        "id": "DytScNGCtFty"
      },
      "execution_count": null,
      "outputs": []
    },
    {
      "cell_type": "code",
      "source": [
        "class Person:\n",
        "    def __init__(self, name,idnumber):\n",
        "        self.name = name\n",
        "        self.idnumber = idnumber\n",
        "\n",
        "    def display(self):\n",
        "        print(self.name)\n",
        "        print(self.idnumber)\n",
        "\n",
        "    def details(self):\n",
        "        print(\"My name is {} \".format(self.name))\n",
        "        print(\"My name is {} \".format(self.idnumber))\n",
        "\n",
        "\n",
        "    # child class\n",
        "\n",
        "class employee(Person):\n",
        "    def __init__(self, name, idnumber, salary, post):\n",
        "        self.salary = salary\n",
        "        self.post = post\n",
        "\n",
        "        # invoking the __init__ of the parent class\n",
        "\n",
        "        Person.__init__(self, name, idnumber)\n",
        "\n",
        "    def details(self):\n",
        "        print(\"My name is {} \".format(self.name))\n",
        "        print(\"My name is {} \".format(self.idnumber))\n",
        "        print(\"Post: {} \".format(self.post))   \n",
        "\n",
        "        # creation of an object variable or an instance\n",
        "a = employee('Rahul', 886012, 200000, \"Intern\")\n",
        "\n",
        "a.display()\n",
        "a.details()\n",
        "        \n",
        "\n",
        "                \n"
      ],
      "metadata": {
        "colab": {
          "base_uri": "https://localhost:8080/"
        },
        "id": "q14ff9gKtV7w",
        "outputId": "28ec8e74-0d8a-431c-9840-b1d157eaa6df"
      },
      "execution_count": null,
      "outputs": [
        {
          "output_type": "stream",
          "name": "stdout",
          "text": [
            "Rahul\n",
            "886012\n",
            "My name is Rahul \n",
            "My name is 886012 \n",
            "Post: Intern \n"
          ]
        }
      ]
    },
    {
      "cell_type": "code",
      "source": [
        "class Person:\n",
        "  def __init__(self, fname, lname):\n",
        "    self.firstname = fname\n",
        "    self.lastname = lname\n",
        "\n",
        "  def printname(self):\n",
        "    print(self.firstname, self.lastname)\n",
        "\n",
        "class Student(Person):\n",
        "  def __init__(self, fname, lname, year):\n",
        "    super().__init__(fname, lname)\n",
        "    self.graduationyear = year\n",
        "\n",
        "  def welcome(self):\n",
        "    print(\"Welcome\", self.firstname, self.lastname, \"to the class of\", self.graduationyear)\n",
        "\n",
        "x = Student(\"Mike\", \"Olsen\", 2019)\n",
        "x.welcome()\n"
      ],
      "metadata": {
        "id": "THEQcdYszO43",
        "colab": {
          "base_uri": "https://localhost:8080/"
        },
        "outputId": "6d776359-b10e-4ceb-e09c-53bf869c4824"
      },
      "execution_count": null,
      "outputs": [
        {
          "output_type": "stream",
          "name": "stdout",
          "text": [
            "Welcome Mike Olsen to the class of 2019\n"
          ]
        }
      ]
    },
    {
      "cell_type": "code",
      "source": [
        "class person:\n",
        "  def __init__(self, fname, lname):\n",
        "    self.firstname = fname\n",
        "    self.lastname = lname\n",
        "\n",
        "  def printname(self):\n",
        "    print(self.firstname, self.name)\n",
        "\n",
        "class student(person):\n",
        "  def __init__(self, fname, lname, year):\n",
        "    Person.__init__(self, fname, lname)\n",
        "    self.graduatingyear = year \n",
        "\n",
        "x = Student(\"Mike\", \"Olsen\", 2019)     \n",
        "print(x.firstname)"
      ],
      "metadata": {
        "id": "IJ5gJuaZukBs",
        "colab": {
          "base_uri": "https://localhost:8080/"
        },
        "outputId": "c2b941c1-6606-4282-fcd4-de036d3f99fe"
      },
      "execution_count": null,
      "outputs": [
        {
          "output_type": "stream",
          "name": "stdout",
          "text": [
            "Mike\n"
          ]
        }
      ]
    },
    {
      "cell_type": "code",
      "source": [],
      "metadata": {
        "id": "k6iCRawqwbYq"
      },
      "execution_count": null,
      "outputs": []
    }
  ],
  "metadata": {
    "colab": {
      "provenance": []
    },
    "kernelspec": {
      "display_name": "Python 3",
      "name": "python3"
    },
    "language_info": {
      "name": "python"
    }
  },
  "nbformat": 4,
  "nbformat_minor": 0
}